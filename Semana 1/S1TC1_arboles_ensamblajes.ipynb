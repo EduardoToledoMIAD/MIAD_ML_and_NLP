{
  "cells": [
    {
      "cell_type": "markdown",
      "metadata": {
        "id": "3HET4BzpRgo0"
      },
      "source": [
        "![image info](https://raw.githubusercontent.com/albahnsen/MIAD_ML_and_NLP/main/images/banner_1.png)"
      ]
    },
    {
      "cell_type": "markdown",
      "metadata": {
        "id": "EDhIPxl8Rgo4"
      },
      "source": [
        "# Taller: Construcción e implementación de árboles de decisión y métodos de ensamblaje\n",
        "\n",
        "En este taller podrá poner en práctica los sus conocimientos sobre construcción e implementación de árboles de decisión y métodos de ensamblajes. El taller está constituido por 9 puntos, 5 relacionados con árboles de decisión (parte A) y 4 con métodos de ensamblaje (parte B)."
      ]
    },
    {
      "cell_type": "markdown",
      "metadata": {
        "id": "QFpjIpchRgo6"
      },
      "source": [
        "## Parte A - Árboles de decisión\n",
        "\n",
        "En esta parte del taller se usará el conjunto de datos de Capital Bikeshare de Kaggle, donde cada observación representa el alquiler de una bicicleta durante una hora y día determinado. Para más detalles puede visitar los siguientes enlaces: [datos](https://github.com/justmarkham/DAT8/blob/master/data/bikeshare.csv), [dicccionario de datos](https://www.kaggle.com/c/bike-sharing-demand/data)."
      ]
    },
    {
      "cell_type": "markdown",
      "metadata": {
        "id": "7zOqwUBSRgo7"
      },
      "source": [
        "### Datos prestamo de bicicletas"
      ]
    },
    {
      "cell_type": "code",
      "execution_count": 1,
      "metadata": {
        "id": "S4BomHXURgo7"
      },
      "outputs": [],
      "source": [
        "import warnings\n",
        "warnings.filterwarnings('ignore')"
      ]
    },
    {
      "cell_type": "code",
      "execution_count": 2,
      "metadata": {
        "id": "4ipyx186Rgo8"
      },
      "outputs": [],
      "source": [
        "# Importación de librerías\n",
        "%matplotlib inline\n",
        "import pandas as pd\n",
        "import numpy as np\n",
        "from sklearn.model_selection import cross_val_score\n",
        "from sklearn.linear_model import LinearRegression\n",
        "from sklearn.tree import DecisionTreeRegressor, export_graphviz"
      ]
    },
    {
      "cell_type": "code",
      "execution_count": null,
      "metadata": {
        "colab": {
          "base_uri": "https://localhost:8080/"
        },
        "id": "6t5MeF_hRgo9",
        "outputId": "2b4cb9a1-5b27-4e8e-952d-d35bbf28b793"
      },
      "outputs": [
        {
          "output_type": "stream",
          "name": "stdout",
          "text": [
            "<class 'pandas.core.frame.DataFrame'>\n",
            "DatetimeIndex: 10886 entries, 2011-01-01 00:00:00 to 2012-12-19 23:00:00\n",
            "Data columns (total 12 columns):\n",
            " #   Column      Non-Null Count  Dtype  \n",
            "---  ------      --------------  -----  \n",
            " 0   season      10886 non-null  int64  \n",
            " 1   holiday     10886 non-null  int64  \n",
            " 2   workingday  10886 non-null  int64  \n",
            " 3   weather     10886 non-null  int64  \n",
            " 4   temp        10886 non-null  float64\n",
            " 5   atemp       10886 non-null  float64\n",
            " 6   humidity    10886 non-null  int64  \n",
            " 7   windspeed   10886 non-null  float64\n",
            " 8   casual      10886 non-null  int64  \n",
            " 9   registered  10886 non-null  int64  \n",
            " 10  total       10886 non-null  int64  \n",
            " 11  hour        10886 non-null  int64  \n",
            "dtypes: float64(3), int64(9)\n",
            "memory usage: 1.1 MB\n"
          ]
        }
      ],
      "source": [
        "# Lectura de la información de archivo .csv\n",
        "bikes = pd.read_csv('https://raw.githubusercontent.com/albahnsen/MIAD_ML_and_NLP/main/datasets/bikeshare.csv', index_col='datetime', parse_dates=True)\n",
        "# Renombrar variable \"count\" a \"total\"\n",
        "bikes.rename(columns={'count':'total'}, inplace=True)\n",
        "# Crear la hora como una variable \n",
        "bikes['hour'] = bikes.index.hour\n",
        "# Visualización\n",
        "bikes.head()\n",
        "bikes.info()"
      ]
    },
    {
      "cell_type": "markdown",
      "metadata": {
        "id": "SAYJVkTERgo9"
      },
      "source": [
        "### Punto 1 - Análisis descriptivo\n",
        "\n",
        "Ejecute las celdas 1.1 y 1.2. A partir de los resultados realice un análisis descriptivo sobre las variables hour y workingday, escriba sus inferencias sobre los datos. Para complementar su análisis puede usar métricas como máximo, mínimo, percentiles entre otros."
      ]
    },
    {
      "cell_type": "code",
      "execution_count": null,
      "metadata": {
        "colab": {
          "base_uri": "https://localhost:8080/"
        },
        "id": "kPkRzsCkRgo-",
        "outputId": "5bc8b941-f0a6-44b5-92cc-41d898f23a7b"
      },
      "outputs": [
        {
          "output_type": "stream",
          "name": "stdout",
          "text": [
            "Promedio de bicicletas rentadas por \n",
            "workingday\n",
            "0    188.506621\n",
            "1    193.011873\n",
            "Name: total, dtype: float64:\n",
            "workingday            0            1\n",
            "count       3474.000000  7412.000000\n",
            "mean         188.506621   193.011873\n",
            "std          173.724015   184.513659\n",
            "min            1.000000     1.000000\n",
            "25%           44.000000    41.000000\n",
            "50%          128.000000   151.000000\n",
            "75%          304.000000   277.000000\n",
            "max          783.000000   977.000000\n",
            "count    10886.000000\n",
            "mean       191.574132\n",
            "std        181.144454\n",
            "min          1.000000\n",
            "25%         42.000000\n",
            "50%        145.000000\n",
            "75%        284.000000\n",
            "max        977.000000\n",
            "Name: total, dtype: float64\n"
          ]
        }
      ],
      "source": [
        "# Celda 1.1\n",
        "print('Promedio de bicicletas rentadas por \\n{0}:'.format(bikes.groupby('workingday').total.mean()))\n",
        "print(bikes.groupby('workingday').total.describe().T)\n",
        "print(bikes.total.describe().T)\n",
        "\n",
        "\n"
      ]
    },
    {
      "cell_type": "markdown",
      "metadata": {
        "id": "JNZMyHkY9OA6"
      },
      "source": [
        "# Análisis descriptivo\n",
        "***\n",
        "\n",
        "En promedio, se rentan 188.5 bikes en dias no laborales frente a 193.01 bikes en días laborales. Adicionalmente,  hay un total de 3474 bikes rentadas  en  todos los dias no laborales del dataset, frente a 7412 rentas en total correspondientes a todos los dias laborales del dataset. Obviamente , se espera mas rentas en dias laborales porque son mas días que los no laborales. \n",
        "\n",
        "Dado que el perfil de datos respecto a sus percentiles/media y desviación standard con respecto a días laborales/no laborales son muy similares, esta variable no será tan influyente."
      ]
    },
    {
      "cell_type": "code",
      "execution_count": null,
      "metadata": {
        "scrolled": true,
        "colab": {
          "base_uri": "https://localhost:8080/"
        },
        "id": "jyq3ztlRRgo-",
        "outputId": "b522f7a3-f1a8-447b-9f33-b673112786ac"
      },
      "outputs": [
        {
          "output_type": "stream",
          "name": "stdout",
          "text": [
            "Promedio de bicicletas rentadas por \n",
            "hour\n",
            "0      55.138462\n",
            "1      33.859031\n",
            "2      22.899554\n",
            "3      11.757506\n",
            "4       6.407240\n",
            "5      19.767699\n",
            "6      76.259341\n",
            "7     213.116484\n",
            "8     362.769231\n",
            "9     221.780220\n",
            "10    175.092308\n",
            "11    210.674725\n",
            "12    256.508772\n",
            "13    257.787281\n",
            "14    243.442982\n",
            "15    254.298246\n",
            "16    316.372807\n",
            "17    468.765351\n",
            "18    430.859649\n",
            "19    315.278509\n",
            "20    228.517544\n",
            "21    173.370614\n",
            "22    133.576754\n",
            "23     89.508772\n",
            "Name: total, dtype: float64:\n",
            "hour           0           1           2           3           4           5   \\\n",
            "count  455.000000  454.000000  448.000000  433.000000  442.000000  452.000000   \n",
            "mean    55.138462   33.859031   22.899554   11.757506    6.407240   19.767699   \n",
            "std     43.620012   34.112105   26.110267   12.666442    4.217633   12.784293   \n",
            "min      2.000000    1.000000    1.000000    1.000000    1.000000    1.000000   \n",
            "25%     24.000000   11.000000    5.000000    3.000000    3.000000    8.000000   \n",
            "50%     41.000000   19.000000   11.000000    6.000000    6.000000   19.000000   \n",
            "75%     74.500000   46.000000   32.000000   15.000000    9.000000   29.000000   \n",
            "max    283.000000  168.000000  119.000000   66.000000   28.000000   57.000000   \n",
            "\n",
            "hour           6           7           8           9   ...          14  \\\n",
            "count  455.000000  455.000000  455.000000  455.000000  ...  456.000000   \n",
            "mean    76.259341  213.116484  362.769231  221.780220  ...  243.442982   \n",
            "std     54.745333  159.207044  231.723065   92.099209  ...  147.563199   \n",
            "min      1.000000    1.000000    8.000000   14.000000  ...   12.000000   \n",
            "25%     24.500000   63.000000  133.500000  161.000000  ...  144.000000   \n",
            "50%     75.000000  208.000000  392.000000  217.000000  ...  212.000000   \n",
            "75%    118.000000  334.000000  563.500000  294.500000  ...  311.250000   \n",
            "max    213.000000  596.000000  839.000000  414.000000  ...  730.000000   \n",
            "\n",
            "hour           15          16          17          18          19          20  \\\n",
            "count  456.000000  456.000000  456.000000  456.000000  456.000000  456.000000   \n",
            "mean   254.298246  316.372807  468.765351  430.859649  315.278509  228.517544   \n",
            "std    144.235670  145.664786  223.775485  219.908138  156.641732  116.411565   \n",
            "min      7.000000   11.000000   15.000000   23.000000   11.000000   11.000000   \n",
            "25%    154.000000  211.750000  277.000000  240.750000  190.000000  136.750000   \n",
            "50%    232.000000  309.500000  480.500000  422.500000  312.500000  224.000000   \n",
            "75%    331.000000  421.000000  608.500000  564.000000  416.000000  302.000000   \n",
            "max    724.000000  783.000000  970.000000  977.000000  743.000000  551.000000   \n",
            "\n",
            "hour           21          22          23  \n",
            "count  456.000000  456.000000  456.000000  \n",
            "mean   173.370614  133.576754   89.508772  \n",
            "std     87.629319   69.844495   51.638004  \n",
            "min      6.000000    9.000000    4.000000  \n",
            "25%    103.500000   80.000000   52.750000  \n",
            "50%    171.500000  129.000000   80.000000  \n",
            "75%    230.000000  175.000000  123.000000  \n",
            "max    584.000000  502.000000  256.000000  \n",
            "\n",
            "[8 rows x 24 columns]\n"
          ]
        }
      ],
      "source": [
        "# Celda 1.2\n",
        "print('Promedio de bicicletas rentadas por \\n{0}:'.format(bikes.groupby('hour').total.mean()))\n",
        "print(bikes.groupby('hour').total.describe().T)"
      ]
    },
    {
      "cell_type": "markdown",
      "metadata": {
        "id": "ZS63D3V8AIJj"
      },
      "source": [
        "# Análisis descriptivo\n",
        "***\n",
        "\n",
        "En promedio, se rentan 362.69 bikes a las 8 de la mañana configurandose como uno de los máximos locales;  a las 17:00, hay un promedio de 469.76 bikes rentadas lo cual corresponde a un máximo promedio de renta. También, hay un mínimo promedio a las 4 am de 6.40 bikes rentadas.\n",
        "\n",
        "Dado que el perfil de datos respecto a sus percentiles/media y desviación standard con respecto a las horas presentan una marcada diferencia, esta variable podría  ser muy  influyente."
      ]
    },
    {
      "cell_type": "markdown",
      "metadata": {
        "id": "80A8Xj9iRgo_"
      },
      "source": [
        "### Punto 2 - Análisis de gráficos\n",
        "\n",
        "Primero ejecute la celda 2.1 y asegúrese de comprender el código y el resultado. Luego, en cada una de celdas 2.2 y 2.3 escriba un código que genere una gráfica de las rentas promedio por hora cuando la variable \"workingday\" es igual a 0 e igual a 1, respectivamente. Analice y escriba sus hallazgos."
      ]
    },
    {
      "cell_type": "code",
      "execution_count": null,
      "metadata": {
        "colab": {
          "base_uri": "https://localhost:8080/",
          "height": 298
        },
        "id": "KIpTRzYMRgo_",
        "outputId": "7f518494-dca4-4ab0-d465-f877f33ed936"
      },
      "outputs": [
        {
          "output_type": "execute_result",
          "data": {
            "text/plain": [
              "<matplotlib.axes._subplots.AxesSubplot at 0x7fee3dc73f90>"
            ]
          },
          "metadata": {},
          "execution_count": 6
        },
        {
          "output_type": "display_data",
          "data": {
            "text/plain": [
              "<Figure size 864x288 with 1 Axes>"
            ],
            "image/png": "[encoded data removed]"
          },
          "metadata": {
            "needs_background": "light"
          }
        }
      ],
      "source": [
        "# Celda 2.1 - rentas promedio para cada valor de la variable \"hour\"\n",
        "bikes.groupby('hour').total.mean().plot(grid=True, xticks= range(0,24),  figsize=(12, 4))"
      ]
    },
    {
      "cell_type": "markdown",
      "source": [
        "# Análisis descriptivo\n",
        "***\n",
        "Hay dos máximos relevantes en la renta promedio de bicicletas que corresponde seguramente a la hora de entrada a los trabajos ( 8 am) y hora de salida (5pm).  Igualmente entre 12 am y 1 pm , hay uno notorio renta de bikes que debería corresponder a la hora de almuerzo.\n",
        "Tambien hay un mínimo promedio a las 4 am que seguramente corresponde a la entrada/salida de ciertas trabajos especiales."
      ],
      "metadata": {
        "id": "8vmIEIQtCcck"
      }
    },
    {
      "cell_type": "code",
      "execution_count": null,
      "metadata": {
        "colab": {
          "base_uri": "https://localhost:8080/",
          "height": 298
        },
        "id": "IbcbaoL5RgpA",
        "outputId": "d8505c09-db8d-4765-dcf2-61a8de061372"
      },
      "outputs": [
        {
          "output_type": "execute_result",
          "data": {
            "text/plain": [
              "<matplotlib.axes._subplots.AxesSubplot at 0x7fee3db63150>"
            ]
          },
          "metadata": {},
          "execution_count": 7
        },
        {
          "output_type": "display_data",
          "data": {
            "text/plain": [
              "<Figure size 864x288 with 1 Axes>"
            ],
            "image/png": "[encoded data removed]"
          },
          "metadata": {
            "needs_background": "light"
          }
        }
      ],
      "source": [
        "# Celda 2.2 - \"workingday\"=0 escriba su código y hallazgos \n",
        "bikes[bikes.workingday == 0].groupby('hour').total.mean().plot(grid=True,xticks= range(0,24),  figsize=(12, 4))"
      ]
    },
    {
      "cell_type": "markdown",
      "source": [
        "# Análisis descriptivo\n",
        "En los días no laborales,hay un marcada aumento en promedio de renta de bicicletas entre las 12am y las 4pm, que hace sentido con quizás, los paseos de descanso o los almuerzos familiares. "
      ],
      "metadata": {
        "id": "B4AbWoJwEYRc"
      }
    },
    {
      "cell_type": "code",
      "execution_count": null,
      "metadata": {
        "colab": {
          "base_uri": "https://localhost:8080/",
          "height": 298
        },
        "id": "5XW2hwDeRgpA",
        "outputId": "e6fcb94f-419f-4524-b501-b19d9cbdbf56"
      },
      "outputs": [
        {
          "output_type": "execute_result",
          "data": {
            "text/plain": [
              "<matplotlib.axes._subplots.AxesSubplot at 0x7fee3d69d150>"
            ]
          },
          "metadata": {},
          "execution_count": 8
        },
        {
          "output_type": "display_data",
          "data": {
            "text/plain": [
              "<Figure size 864x288 with 1 Axes>"
            ],
            "image/png": "[encoded data removed]"
          },
          "metadata": {
            "needs_background": "light"
          }
        }
      ],
      "source": [
        "# Celda 2.3 - \"workingday\"=1 escriba su código y hallazgos \n",
        "bikes[bikes.workingday == 1].groupby('hour').total.mean().plot(grid=True,xticks= range(0,24),  figsize=(12, 4))"
      ]
    },
    {
      "cell_type": "markdown",
      "source": [
        "# Análisis descriptivo\n",
        "En los dias  laborales,se confirma un  marcada aumento en promedio de renta de bicicletas entre 7 am y 8 am (hora de entrada en los trabajos) , a las 12am y 1pm( hora de almuerzo) y entre 5 pm y 6pm(hora de salida del trabajo)"
      ],
      "metadata": {
        "id": "wxCX9H_fFF7q"
      }
    },
    {
      "cell_type": "markdown",
      "metadata": {
        "id": "x9Z4QxfNRgpA"
      },
      "source": [
        "### Punto 3 - Regresión lineal\n",
        "En la celda 3 ajuste un modelo de regresión lineal a todo el conjunto de datos, utilizando \"total\" como variable de respuesta y \"hour\" y \"workingday\" como las únicas variables predictoras. Luego, imprima los coeficientes e interprételos. ¿Cuáles son las limitaciones de la regresión lineal en este caso?"
      ]
    },
    {
      "cell_type": "code",
      "execution_count": null,
      "metadata": {
        "id": "_Isq9rQpRgpB",
        "colab": {
          "base_uri": "https://localhost:8080/"
        },
        "outputId": "9a90995f-c44d-4cfb-84af-c36433717ea7"
      },
      "outputs": [
        {
          "output_type": "stream",
          "name": "stdout",
          "text": [
            "Score Mean:165.22328668912974\n",
            "Score Standart Deviation:39.42354316690923\n",
            "Score Mean:0.16059115011434866\n",
            "Coeficientes [ 4.07248627 10.49206282]\n"
          ]
        }
      ],
      "source": [
        "# Celda 3\n",
        "from sklearn.linear_model import LinearRegression\n",
        "from sklearn.model_selection import train_test_split\n",
        "features = ['workingday', 'hour']\n",
        "X= bikes[features]\n",
        "y= bikes.total\n",
        "\n",
        "\n",
        "reg = LinearRegression()\n",
        "reg.fit(X,y)\n",
        "rmse_scores=np.sqrt(-cross_val_score(reg, X,y, cv=10, scoring='neg_mean_squared_error'))\n",
        "print(f'Score Mean:{rmse_scores.mean()}')\n",
        "print(f'Score Standart Deviation:{rmse_scores.std()}')\n",
        "print(f'Score Mean:{reg.score(X,y)}')\n",
        "print(f'Coeficientes {reg.coef_}')\n",
        "\n",
        "\n",
        "\n",
        "\n",
        "\n"
      ]
    },
    {
      "cell_type": "markdown",
      "source": [
        "# Análisis\n",
        "***\n",
        "Observando el coeficiente  de determinacion R2, este es de 0.59 el cual es  bajo. Esto significa que esta regresion solamente puede explicar el 16 % de la variabilidad de rentas de bikes y de aqui es un modelo que  no ajusta correctamente a un hyperplano.\n",
        "\n",
        "En lo que respecta a los coeficientes, que si es un dia laboral, este incrementa en 4.072 unidades las rentas de ciclas. \n"
      ],
      "metadata": {
        "id": "ImQJLhv6Igpx"
      }
    },
    {
      "cell_type": "markdown",
      "metadata": {
        "id": "CFev-T3cRgpB"
      },
      "source": [
        "### Punto 4 - Árbol de decisión manual\n",
        "En la celda 4 cree un árbol de decisiones para pronosticar la variable \"total\" iterando **manualmente** sobre las variables \"hour\" y  \"workingday\". El árbol debe tener al menos 6 nodos finales."
      ]
    },
    {
      "cell_type": "code",
      "execution_count": null,
      "metadata": {
        "id": "9Qb1gODjRgpB",
        "colab": {
          "base_uri": "https://localhost:8080/",
          "height": 1000
        },
        "outputId": "adb5f938-5bad-40c6-c8b1-5b0a75d1dc18"
      },
      "outputs": [
        {
          "output_type": "stream",
          "name": "stdout",
          "text": [
            "......\n",
            "Feature 0\n",
            "Splits [1.]\n",
            "Particion 1.0\n",
            "mse_base 32810.2988862343\n",
            "mse_subnodos 64212.04320568929\n",
            "Feature 1\n",
            "Splits [ 2.  4.  6.  8. 10. 13. 15. 17. 19. 21.]\n",
            "Particion 2.0\n",
            "mse_base 32810.2988862343\n",
            "mse_subnodos 35143.28449900183\n",
            "Particion 4.0\n",
            "mse_base 32810.2988862343\n",
            "mse_subnodos 34205.7167789004\n",
            "Particion 6.0\n",
            "mse_base 32810.2988862343\n",
            "mse_subnodos 32157.945318004182\n",
            "best_split [1, 6.0, 32157.945318004182]\n",
            "Particion 8.0\n",
            "mse_base 32810.2988862343\n",
            "mse_subnodos 39489.822093922834\n",
            "Particion 10.0\n",
            "mse_base 32810.2988862343\n",
            "mse_subnodos 53302.9125901049\n",
            "Particion 13.0\n",
            "mse_base 32810.2988862343\n",
            "mse_subnodos 57263.69409308015\n",
            "Particion 15.0\n",
            "mse_base 32810.2988862343\n",
            "mse_subnodos 61291.178846270544\n",
            "Particion 17.0\n",
            "mse_base 32810.2988862343\n",
            "mse_subnodos 66907.82594615834\n",
            "Particion 19.0\n",
            "mse_base 32810.2988862343\n",
            "mse_subnodos 53834.96678354677\n",
            "Particion 21.0\n",
            "mse_base 32810.2988862343\n",
            "mse_subnodos 42285.80379313736\n",
            "......\n",
            "Feature 0\n",
            "Splits [1.]\n",
            "Particion 1.0\n",
            "mse_base 945.7802636532437\n",
            "mse_subnodos 2067.512035673788\n",
            "Feature 1\n",
            "Splits [1. 2. 3. 4. 5.]\n",
            "Particion 1.0\n",
            "mse_base 945.7802636532437\n",
            "mse_subnodos 2429.185621955458\n",
            "Particion 2.0\n",
            "mse_base 945.7802636532437\n",
            "mse_subnodos 1942.49882674131\n",
            "Particion 3.0\n",
            "mse_base 945.7802636532437\n",
            "mse_subnodos 1572.8875625486048\n",
            "Particion 4.0\n",
            "mse_base 945.7802636532437\n",
            "mse_subnodos 1378.02203777568\n",
            "Particion 5.0\n",
            "mse_base 945.7802636532437\n",
            "mse_subnodos 1260.2339546067383\n",
            "......\n",
            "Feature 0\n"
          ]
        },
        {
          "output_type": "error",
          "ename": "IndexError",
          "evalue": "ignored",
          "traceback": [
            "\u001b[0;31m---------------------------------------------------------------------------\u001b[0m",
            "\u001b[0;31mIndexError\u001b[0m                                Traceback (most recent call last)",
            "\u001b[0;32m<ipython-input-13-b2b9e9922bf2>\u001b[0m in \u001b[0;36m<module>\u001b[0;34m()\u001b[0m\n\u001b[1;32m     75\u001b[0m     \u001b[0;32mreturn\u001b[0m \u001b[0mtree\u001b[0m\u001b[0;34m\u001b[0m\u001b[0;34m\u001b[0m\u001b[0m\n\u001b[1;32m     76\u001b[0m \u001b[0;34m\u001b[0m\u001b[0m\n\u001b[0;32m---> 77\u001b[0;31m \u001b[0mtree_grow\u001b[0m\u001b[0;34m(\u001b[0m\u001b[0mX\u001b[0m\u001b[0;34m,\u001b[0m \u001b[0my\u001b[0m\u001b[0;34m,\u001b[0m \u001b[0mlevel\u001b[0m\u001b[0;34m=\u001b[0m\u001b[0;36m0\u001b[0m\u001b[0;34m,\u001b[0m \u001b[0mnum_leaf_nodes\u001b[0m\u001b[0;34m=\u001b[0m\u001b[0;36m0\u001b[0m\u001b[0;34m,\u001b[0m \u001b[0mmin_leaf_nodes\u001b[0m\u001b[0;34m=\u001b[0m\u001b[0;36m6\u001b[0m\u001b[0;34m,\u001b[0m \u001b[0mmax_depth\u001b[0m \u001b[0;34m=\u001b[0m \u001b[0;36m10\u001b[0m\u001b[0;34m,\u001b[0m \u001b[0mnum_pct\u001b[0m\u001b[0;34m=\u001b[0m\u001b[0;36m10\u001b[0m\u001b[0;34m)\u001b[0m\u001b[0;34m\u001b[0m\u001b[0;34m\u001b[0m\u001b[0m\n\u001b[0m",
            "\u001b[0;32m<ipython-input-13-b2b9e9922bf2>\u001b[0m in \u001b[0;36mtree_grow\u001b[0;34m(X, y, level, num_leaf_nodes, min_leaf_nodes, max_depth, num_pct)\u001b[0m\n\u001b[1;32m     70\u001b[0m     \u001b[0;31m# Siguiente iteración para cada partición\u001b[0m\u001b[0;34m\u001b[0m\u001b[0;34m\u001b[0m\u001b[0;34m\u001b[0m\u001b[0m\n\u001b[1;32m     71\u001b[0m \u001b[0;34m\u001b[0m\u001b[0m\n\u001b[0;32m---> 72\u001b[0;31m     \u001b[0mtree\u001b[0m\u001b[0;34m[\u001b[0m\u001b[0;34m'sl'\u001b[0m\u001b[0;34m]\u001b[0m \u001b[0;34m=\u001b[0m \u001b[0mtree_grow\u001b[0m\u001b[0;34m(\u001b[0m\u001b[0mX_l\u001b[0m\u001b[0;34m,\u001b[0m \u001b[0my_l\u001b[0m\u001b[0;34m,\u001b[0m \u001b[0mlevel\u001b[0m \u001b[0;34m+\u001b[0m \u001b[0;36m1\u001b[0m\u001b[0;34m,\u001b[0m \u001b[0mnum_leaf_nodes\u001b[0m\u001b[0;34m,\u001b[0m \u001b[0mmin_leaf_nodes\u001b[0m\u001b[0;34m=\u001b[0m\u001b[0mmin_leaf_nodes\u001b[0m\u001b[0;34m,\u001b[0m\u001b[0mmax_depth\u001b[0m\u001b[0;34m=\u001b[0m\u001b[0mmax_depth\u001b[0m\u001b[0;34m,\u001b[0m \u001b[0mnum_pct\u001b[0m\u001b[0;34m=\u001b[0m\u001b[0mnum_pct\u001b[0m\u001b[0;34m)\u001b[0m\u001b[0;34m\u001b[0m\u001b[0;34m\u001b[0m\u001b[0m\n\u001b[0m\u001b[1;32m     73\u001b[0m     \u001b[0mtree\u001b[0m\u001b[0;34m[\u001b[0m\u001b[0;34m'sr'\u001b[0m\u001b[0;34m]\u001b[0m \u001b[0;34m=\u001b[0m \u001b[0mtree_grow\u001b[0m\u001b[0;34m(\u001b[0m\u001b[0mX_r\u001b[0m\u001b[0;34m,\u001b[0m \u001b[0my_r\u001b[0m\u001b[0;34m,\u001b[0m \u001b[0mlevel\u001b[0m \u001b[0;34m+\u001b[0m \u001b[0;36m1\u001b[0m\u001b[0;34m,\u001b[0m \u001b[0mnum_leaf_nodes\u001b[0m\u001b[0;34m,\u001b[0m \u001b[0mmin_leaf_nodes\u001b[0m\u001b[0;34m=\u001b[0m\u001b[0mmin_leaf_nodes\u001b[0m\u001b[0;34m,\u001b[0m\u001b[0mmax_depth\u001b[0m\u001b[0;34m=\u001b[0m\u001b[0mmax_depth\u001b[0m\u001b[0;34m,\u001b[0m \u001b[0mnum_pct\u001b[0m\u001b[0;34m=\u001b[0m\u001b[0mnum_pct\u001b[0m\u001b[0;34m)\u001b[0m\u001b[0;34m\u001b[0m\u001b[0;34m\u001b[0m\u001b[0m\n\u001b[1;32m     74\u001b[0m     \u001b[0mprint\u001b[0m\u001b[0;34m(\u001b[0m\u001b[0mtree\u001b[0m\u001b[0;34m)\u001b[0m\u001b[0;34m\u001b[0m\u001b[0;34m\u001b[0m\u001b[0m\n",
            "\u001b[0;32m<ipython-input-13-b2b9e9922bf2>\u001b[0m in \u001b[0;36mtree_grow\u001b[0;34m(X, y, level, num_leaf_nodes, min_leaf_nodes, max_depth, num_pct)\u001b[0m\n\u001b[1;32m     70\u001b[0m     \u001b[0;31m# Siguiente iteración para cada partición\u001b[0m\u001b[0;34m\u001b[0m\u001b[0;34m\u001b[0m\u001b[0;34m\u001b[0m\u001b[0m\n\u001b[1;32m     71\u001b[0m \u001b[0;34m\u001b[0m\u001b[0m\n\u001b[0;32m---> 72\u001b[0;31m     \u001b[0mtree\u001b[0m\u001b[0;34m[\u001b[0m\u001b[0;34m'sl'\u001b[0m\u001b[0;34m]\u001b[0m \u001b[0;34m=\u001b[0m \u001b[0mtree_grow\u001b[0m\u001b[0;34m(\u001b[0m\u001b[0mX_l\u001b[0m\u001b[0;34m,\u001b[0m \u001b[0my_l\u001b[0m\u001b[0;34m,\u001b[0m \u001b[0mlevel\u001b[0m \u001b[0;34m+\u001b[0m \u001b[0;36m1\u001b[0m\u001b[0;34m,\u001b[0m \u001b[0mnum_leaf_nodes\u001b[0m\u001b[0;34m,\u001b[0m \u001b[0mmin_leaf_nodes\u001b[0m\u001b[0;34m=\u001b[0m\u001b[0mmin_leaf_nodes\u001b[0m\u001b[0;34m,\u001b[0m\u001b[0mmax_depth\u001b[0m\u001b[0;34m=\u001b[0m\u001b[0mmax_depth\u001b[0m\u001b[0;34m,\u001b[0m \u001b[0mnum_pct\u001b[0m\u001b[0;34m=\u001b[0m\u001b[0mnum_pct\u001b[0m\u001b[0;34m)\u001b[0m\u001b[0;34m\u001b[0m\u001b[0;34m\u001b[0m\u001b[0m\n\u001b[0m\u001b[1;32m     73\u001b[0m     \u001b[0mtree\u001b[0m\u001b[0;34m[\u001b[0m\u001b[0;34m'sr'\u001b[0m\u001b[0;34m]\u001b[0m \u001b[0;34m=\u001b[0m \u001b[0mtree_grow\u001b[0m\u001b[0;34m(\u001b[0m\u001b[0mX_r\u001b[0m\u001b[0;34m,\u001b[0m \u001b[0my_r\u001b[0m\u001b[0;34m,\u001b[0m \u001b[0mlevel\u001b[0m \u001b[0;34m+\u001b[0m \u001b[0;36m1\u001b[0m\u001b[0;34m,\u001b[0m \u001b[0mnum_leaf_nodes\u001b[0m\u001b[0;34m,\u001b[0m \u001b[0mmin_leaf_nodes\u001b[0m\u001b[0;34m=\u001b[0m\u001b[0mmin_leaf_nodes\u001b[0m\u001b[0;34m,\u001b[0m\u001b[0mmax_depth\u001b[0m\u001b[0;34m=\u001b[0m\u001b[0mmax_depth\u001b[0m\u001b[0;34m,\u001b[0m \u001b[0mnum_pct\u001b[0m\u001b[0;34m=\u001b[0m\u001b[0mnum_pct\u001b[0m\u001b[0;34m)\u001b[0m\u001b[0;34m\u001b[0m\u001b[0;34m\u001b[0m\u001b[0m\n\u001b[1;32m     74\u001b[0m     \u001b[0mprint\u001b[0m\u001b[0;34m(\u001b[0m\u001b[0mtree\u001b[0m\u001b[0;34m)\u001b[0m\u001b[0;34m\u001b[0m\u001b[0;34m\u001b[0m\u001b[0m\n",
            "\u001b[0;32m<ipython-input-13-b2b9e9922bf2>\u001b[0m in \u001b[0;36mtree_grow\u001b[0;34m(X, y, level, num_leaf_nodes, min_leaf_nodes, max_depth, num_pct)\u001b[0m\n\u001b[1;32m     45\u001b[0m \u001b[0;34m\u001b[0m\u001b[0m\n\u001b[1;32m     46\u001b[0m     \u001b[0;31m# Calcular la mejor división\u001b[0m\u001b[0;34m\u001b[0m\u001b[0;34m\u001b[0m\u001b[0;34m\u001b[0m\u001b[0m\n\u001b[0;32m---> 47\u001b[0;31m     \u001b[0mj\u001b[0m\u001b[0;34m,\u001b[0m \u001b[0msplit\u001b[0m\u001b[0;34m,\u001b[0m \u001b[0mmse\u001b[0m \u001b[0;34m=\u001b[0m \u001b[0mbest_split\u001b[0m\u001b[0;34m(\u001b[0m\u001b[0mX\u001b[0m\u001b[0;34m,\u001b[0m \u001b[0my\u001b[0m\u001b[0;34m,\u001b[0m \u001b[0mnum_pct\u001b[0m\u001b[0;34m)\u001b[0m\u001b[0;34m\u001b[0m\u001b[0;34m\u001b[0m\u001b[0m\n\u001b[0m\u001b[1;32m     48\u001b[0m \u001b[0;34m\u001b[0m\u001b[0m\n\u001b[1;32m     49\u001b[0m     \u001b[0;31m# Guardar el árbol y estimar la predicción\u001b[0m\u001b[0;34m\u001b[0m\u001b[0;34m\u001b[0m\u001b[0;34m\u001b[0m\u001b[0m\n",
            "\u001b[0;32m<ipython-input-13-b2b9e9922bf2>\u001b[0m in \u001b[0;36mbest_split\u001b[0;34m(X, y, num_pct)\u001b[0m\n\u001b[1;32m     21\u001b[0m     \u001b[0;32mfor\u001b[0m \u001b[0mj\u001b[0m \u001b[0;32min\u001b[0m \u001b[0mfeatures\u001b[0m\u001b[0;34m:\u001b[0m\u001b[0;34m\u001b[0m\u001b[0;34m\u001b[0m\u001b[0m\n\u001b[1;32m     22\u001b[0m       \u001b[0mprint\u001b[0m\u001b[0;34m(\u001b[0m\u001b[0;34mf'Feature {j}'\u001b[0m\u001b[0;34m)\u001b[0m\u001b[0;34m\u001b[0m\u001b[0;34m\u001b[0m\u001b[0m\n\u001b[0;32m---> 23\u001b[0;31m       \u001b[0msplits\u001b[0m \u001b[0;34m=\u001b[0m \u001b[0mnp\u001b[0m\u001b[0;34m.\u001b[0m\u001b[0mpercentile\u001b[0m\u001b[0;34m(\u001b[0m\u001b[0mX\u001b[0m\u001b[0;34m.\u001b[0m\u001b[0miloc\u001b[0m\u001b[0;34m[\u001b[0m\u001b[0;34m:\u001b[0m\u001b[0;34m,\u001b[0m \u001b[0mj\u001b[0m\u001b[0;34m]\u001b[0m\u001b[0;34m,\u001b[0m \u001b[0mnp\u001b[0m\u001b[0;34m.\u001b[0m\u001b[0marange\u001b[0m\u001b[0;34m(\u001b[0m\u001b[0;36m0\u001b[0m\u001b[0;34m,\u001b[0m \u001b[0;36m100\u001b[0m\u001b[0;34m,\u001b[0m \u001b[0;36m100.0\u001b[0m \u001b[0;34m/\u001b[0m \u001b[0;34m(\u001b[0m\u001b[0mnum_pct\u001b[0m\u001b[0;34m+\u001b[0m\u001b[0;36m1\u001b[0m\u001b[0;34m)\u001b[0m\u001b[0;34m)\u001b[0m\u001b[0;34m.\u001b[0m\u001b[0mtolist\u001b[0m\u001b[0;34m(\u001b[0m\u001b[0;34m)\u001b[0m\u001b[0;34m)\u001b[0m\u001b[0;34m\u001b[0m\u001b[0;34m\u001b[0m\u001b[0m\n\u001b[0m\u001b[1;32m     24\u001b[0m       \u001b[0msplits\u001b[0m \u001b[0;34m=\u001b[0m \u001b[0mnp\u001b[0m\u001b[0;34m.\u001b[0m\u001b[0munique\u001b[0m\u001b[0;34m(\u001b[0m\u001b[0msplits\u001b[0m\u001b[0;34m)\u001b[0m\u001b[0;34m[\u001b[0m\u001b[0;36m1\u001b[0m\u001b[0;34m:\u001b[0m\u001b[0;34m]\u001b[0m\u001b[0;34m\u001b[0m\u001b[0;34m\u001b[0m\u001b[0m\n\u001b[1;32m     25\u001b[0m       \u001b[0mprint\u001b[0m\u001b[0;34m(\u001b[0m\u001b[0;34mf'Splits {splits}'\u001b[0m\u001b[0;34m)\u001b[0m\u001b[0;34m\u001b[0m\u001b[0;34m\u001b[0m\u001b[0m\n",
            "\u001b[0;32m<__array_function__ internals>\u001b[0m in \u001b[0;36mpercentile\u001b[0;34m(*args, **kwargs)\u001b[0m\n",
            "\u001b[0;32m/usr/local/lib/python3.7/dist-packages/numpy/lib/function_base.py\u001b[0m in \u001b[0;36mpercentile\u001b[0;34m(a, q, axis, out, overwrite_input, interpolation, keepdims)\u001b[0m\n\u001b[1;32m   3866\u001b[0m         \u001b[0;32mraise\u001b[0m \u001b[0mValueError\u001b[0m\u001b[0;34m(\u001b[0m\u001b[0;34m\"Percentiles must be in the range [0, 100]\"\u001b[0m\u001b[0;34m)\u001b[0m\u001b[0;34m\u001b[0m\u001b[0;34m\u001b[0m\u001b[0m\n\u001b[1;32m   3867\u001b[0m     return _quantile_unchecked(\n\u001b[0;32m-> 3868\u001b[0;31m         a, q, axis, out, overwrite_input, interpolation, keepdims)\n\u001b[0m\u001b[1;32m   3869\u001b[0m \u001b[0;34m\u001b[0m\u001b[0m\n\u001b[1;32m   3870\u001b[0m \u001b[0;34m\u001b[0m\u001b[0m\n",
            "\u001b[0;32m/usr/local/lib/python3.7/dist-packages/numpy/lib/function_base.py\u001b[0m in \u001b[0;36m_quantile_unchecked\u001b[0;34m(a, q, axis, out, overwrite_input, interpolation, keepdims)\u001b[0m\n\u001b[1;32m   3986\u001b[0m     r, k = _ureduce(a, func=_quantile_ureduce_func, q=q, axis=axis, out=out,\n\u001b[1;32m   3987\u001b[0m                     \u001b[0moverwrite_input\u001b[0m\u001b[0;34m=\u001b[0m\u001b[0moverwrite_input\u001b[0m\u001b[0;34m,\u001b[0m\u001b[0;34m\u001b[0m\u001b[0;34m\u001b[0m\u001b[0m\n\u001b[0;32m-> 3988\u001b[0;31m                     interpolation=interpolation)\n\u001b[0m\u001b[1;32m   3989\u001b[0m     \u001b[0;32mif\u001b[0m \u001b[0mkeepdims\u001b[0m\u001b[0;34m:\u001b[0m\u001b[0;34m\u001b[0m\u001b[0;34m\u001b[0m\u001b[0m\n\u001b[1;32m   3990\u001b[0m         \u001b[0;32mreturn\u001b[0m \u001b[0mr\u001b[0m\u001b[0;34m.\u001b[0m\u001b[0mreshape\u001b[0m\u001b[0;34m(\u001b[0m\u001b[0mq\u001b[0m\u001b[0;34m.\u001b[0m\u001b[0mshape\u001b[0m \u001b[0;34m+\u001b[0m \u001b[0mk\u001b[0m\u001b[0;34m)\u001b[0m\u001b[0;34m\u001b[0m\u001b[0;34m\u001b[0m\u001b[0m\n",
            "\u001b[0;32m/usr/local/lib/python3.7/dist-packages/numpy/lib/function_base.py\u001b[0m in \u001b[0;36m_ureduce\u001b[0;34m(a, func, **kwargs)\u001b[0m\n\u001b[1;32m   3562\u001b[0m         \u001b[0mkeepdim\u001b[0m \u001b[0;34m=\u001b[0m \u001b[0;34m(\u001b[0m\u001b[0;36m1\u001b[0m\u001b[0;34m,\u001b[0m\u001b[0;34m)\u001b[0m \u001b[0;34m*\u001b[0m \u001b[0ma\u001b[0m\u001b[0;34m.\u001b[0m\u001b[0mndim\u001b[0m\u001b[0;34m\u001b[0m\u001b[0;34m\u001b[0m\u001b[0m\n\u001b[1;32m   3563\u001b[0m \u001b[0;34m\u001b[0m\u001b[0m\n\u001b[0;32m-> 3564\u001b[0;31m     \u001b[0mr\u001b[0m \u001b[0;34m=\u001b[0m \u001b[0mfunc\u001b[0m\u001b[0;34m(\u001b[0m\u001b[0ma\u001b[0m\u001b[0;34m,\u001b[0m \u001b[0;34m**\u001b[0m\u001b[0mkwargs\u001b[0m\u001b[0;34m)\u001b[0m\u001b[0;34m\u001b[0m\u001b[0;34m\u001b[0m\u001b[0m\n\u001b[0m\u001b[1;32m   3565\u001b[0m     \u001b[0;32mreturn\u001b[0m \u001b[0mr\u001b[0m\u001b[0;34m,\u001b[0m \u001b[0mkeepdim\u001b[0m\u001b[0;34m\u001b[0m\u001b[0;34m\u001b[0m\u001b[0m\n\u001b[1;32m   3566\u001b[0m \u001b[0;34m\u001b[0m\u001b[0m\n",
            "\u001b[0;32m/usr/local/lib/python3.7/dist-packages/numpy/lib/function_base.py\u001b[0m in \u001b[0;36m_quantile_ureduce_func\u001b[0;34m(***failed resolving arguments***)\u001b[0m\n\u001b[1;32m   4107\u001b[0m         \u001b[0mweights_above\u001b[0m \u001b[0;34m=\u001b[0m \u001b[0mnot_scalar\u001b[0m\u001b[0;34m(\u001b[0m\u001b[0mindices\u001b[0m \u001b[0;34m-\u001b[0m \u001b[0mindices_below\u001b[0m\u001b[0;34m)\u001b[0m\u001b[0;34m.\u001b[0m\u001b[0mreshape\u001b[0m\u001b[0;34m(\u001b[0m\u001b[0mweights_shape\u001b[0m\u001b[0;34m)\u001b[0m\u001b[0;34m\u001b[0m\u001b[0;34m\u001b[0m\u001b[0m\n\u001b[1;32m   4108\u001b[0m \u001b[0;34m\u001b[0m\u001b[0m\n\u001b[0;32m-> 4109\u001b[0;31m         \u001b[0mx_below\u001b[0m \u001b[0;34m=\u001b[0m \u001b[0mtake\u001b[0m\u001b[0;34m(\u001b[0m\u001b[0map\u001b[0m\u001b[0;34m,\u001b[0m \u001b[0mindices_below\u001b[0m\u001b[0;34m,\u001b[0m \u001b[0maxis\u001b[0m\u001b[0;34m=\u001b[0m\u001b[0;36m0\u001b[0m\u001b[0;34m)\u001b[0m\u001b[0;34m\u001b[0m\u001b[0;34m\u001b[0m\u001b[0m\n\u001b[0m\u001b[1;32m   4110\u001b[0m         \u001b[0mx_above\u001b[0m \u001b[0;34m=\u001b[0m \u001b[0mtake\u001b[0m\u001b[0;34m(\u001b[0m\u001b[0map\u001b[0m\u001b[0;34m,\u001b[0m \u001b[0mindices_above\u001b[0m\u001b[0;34m,\u001b[0m \u001b[0maxis\u001b[0m\u001b[0;34m=\u001b[0m\u001b[0;36m0\u001b[0m\u001b[0;34m)\u001b[0m\u001b[0;34m\u001b[0m\u001b[0;34m\u001b[0m\u001b[0m\n\u001b[1;32m   4111\u001b[0m \u001b[0;34m\u001b[0m\u001b[0m\n",
            "\u001b[0;32m<__array_function__ internals>\u001b[0m in \u001b[0;36mtake\u001b[0;34m(*args, **kwargs)\u001b[0m\n",
            "\u001b[0;32m/usr/local/lib/python3.7/dist-packages/numpy/core/fromnumeric.py\u001b[0m in \u001b[0;36mtake\u001b[0;34m(a, indices, axis, out, mode)\u001b[0m\n\u001b[1;32m    188\u001b[0m            [5, 7]])\n\u001b[1;32m    189\u001b[0m     \"\"\"\n\u001b[0;32m--> 190\u001b[0;31m     \u001b[0;32mreturn\u001b[0m \u001b[0m_wrapfunc\u001b[0m\u001b[0;34m(\u001b[0m\u001b[0ma\u001b[0m\u001b[0;34m,\u001b[0m \u001b[0;34m'take'\u001b[0m\u001b[0;34m,\u001b[0m \u001b[0mindices\u001b[0m\u001b[0;34m,\u001b[0m \u001b[0maxis\u001b[0m\u001b[0;34m=\u001b[0m\u001b[0maxis\u001b[0m\u001b[0;34m,\u001b[0m \u001b[0mout\u001b[0m\u001b[0;34m=\u001b[0m\u001b[0mout\u001b[0m\u001b[0;34m,\u001b[0m \u001b[0mmode\u001b[0m\u001b[0;34m=\u001b[0m\u001b[0mmode\u001b[0m\u001b[0;34m)\u001b[0m\u001b[0;34m\u001b[0m\u001b[0;34m\u001b[0m\u001b[0m\n\u001b[0m\u001b[1;32m    191\u001b[0m \u001b[0;34m\u001b[0m\u001b[0m\n\u001b[1;32m    192\u001b[0m \u001b[0;34m\u001b[0m\u001b[0m\n",
            "\u001b[0;32m/usr/local/lib/python3.7/dist-packages/numpy/core/fromnumeric.py\u001b[0m in \u001b[0;36m_wrapfunc\u001b[0;34m(obj, method, *args, **kwds)\u001b[0m\n\u001b[1;32m     55\u001b[0m \u001b[0;34m\u001b[0m\u001b[0m\n\u001b[1;32m     56\u001b[0m     \u001b[0;32mtry\u001b[0m\u001b[0;34m:\u001b[0m\u001b[0;34m\u001b[0m\u001b[0;34m\u001b[0m\u001b[0m\n\u001b[0;32m---> 57\u001b[0;31m         \u001b[0;32mreturn\u001b[0m \u001b[0mbound\u001b[0m\u001b[0;34m(\u001b[0m\u001b[0;34m*\u001b[0m\u001b[0margs\u001b[0m\u001b[0;34m,\u001b[0m \u001b[0;34m**\u001b[0m\u001b[0mkwds\u001b[0m\u001b[0;34m)\u001b[0m\u001b[0;34m\u001b[0m\u001b[0;34m\u001b[0m\u001b[0m\n\u001b[0m\u001b[1;32m     58\u001b[0m     \u001b[0;32mexcept\u001b[0m \u001b[0mTypeError\u001b[0m\u001b[0;34m:\u001b[0m\u001b[0;34m\u001b[0m\u001b[0;34m\u001b[0m\u001b[0m\n\u001b[1;32m     59\u001b[0m         \u001b[0;31m# A TypeError occurs if the object does have such a method in its\u001b[0m\u001b[0;34m\u001b[0m\u001b[0;34m\u001b[0m\u001b[0;34m\u001b[0m\u001b[0m\n",
            "\u001b[0;31mIndexError\u001b[0m: cannot do a non-empty take from an empty axes."
          ]
        }
      ],
      "source": [
        "import numpy as np\n",
        "\n",
        "def calc_mse(ytrue, pred) -> float:\n",
        "  return np.average(np.square(ytrue-pred))\n",
        "\n",
        "def mse_split(X_col, y, split):\n",
        "  filter_l = X_col  < split\n",
        "  y_l = y.loc[filter_l]\n",
        "  y_r = y.loc[~filter_l]\n",
        "  mse_l = calc_mse(y_l, y_l.mean())\n",
        "  mse_r = calc_mse(y_r, y_r.mean())\n",
        "  return mse_l + mse_r\n",
        "\n",
        "\n",
        "def best_split(X, y, num_pct=10):\n",
        "    print('......')\n",
        "    features = range(X.shape[1])\n",
        "    mse_base = calc_mse(y, y.mean())\n",
        "    best_split = [0, 0, mse_base]  # j, split, mse\n",
        "    # Para todas las varibles \n",
        "    for j in features:\n",
        "      print(f'Feature {j}')\n",
        "      splits = np.percentile(X.iloc[:, j], np.arange(0, 100, 100.0 / (num_pct+1)).tolist())\n",
        "      splits = np.unique(splits)[1:]\n",
        "      print(f'Splits {splits}')\n",
        "      # Para cada partición\n",
        "      for split in splits:\n",
        "        print(f'Particion {split}')\n",
        "        mse_subnodos= mse_split(X.iloc[:, j], y, split)\n",
        "        print(f'mse_base {mse_base}')\n",
        "        print(f'mse_subnodos {mse_subnodos}')\n",
        "        if (mse_subnodos < best_split[2]):              \n",
        "          best_split = [j, split, mse_subnodos]\n",
        "          print(f'best_split {best_split}')\n",
        "            \n",
        "    return best_split\n",
        "\n",
        "    # Definición de la función tree_grow para hacer un crecimiento recursivo del árbol\n",
        "def tree_grow(X, y, level=0,  num_leaf_nodes=0,min_leaf_nodes=None,max_depth=None, num_pct=10):\n",
        "    \n",
        "    # Si solo es una observación\n",
        "    if X.shape[0] == 1:\n",
        "        tree = dict(y_pred=y.iloc[:1].values[0],  level=level, split=-1, n_samples=1, mse=0)\n",
        "        return tree\n",
        "    \n",
        "    # Calcular la mejor división\n",
        "    j, split, mse = best_split(X, y, num_pct)\n",
        "    \n",
        "    # Guardar el árbol y estimar la predicción\n",
        "    y_pred = y.mean()\n",
        "    tree = dict(y_pred=y_pred, level=level, split=-1, n_samples=X.shape[0], mse=mse)\n",
        "    # Revisar el criterio de parada \n",
        "    #if split == -1:\n",
        "    #  if min_leaf_nodes is not None:\n",
        "    #    if num_leaf_nodes + 1 <= min_leaf_nodes:\n",
        "    #      num_leaf_nodes= num_leaf_nodes + 1\n",
        "      \n",
        "    #  return tree\n",
        "    if max_depth is not None:\n",
        "        if level >= max_depth:\n",
        "            return tree   \n",
        "    \n",
        "    # Continuar creando la partición\n",
        "    filter_l = X.iloc[:, j] < split\n",
        "    X_l, y_l = X.loc[filter_l], y.loc[filter_l]\n",
        "    X_r, y_r = X.loc[~filter_l], y.loc[~filter_l]\n",
        "    tree['split'] = [j, split]\n",
        "   \n",
        "\n",
        "    # Siguiente iteración para cada partición\n",
        "    \n",
        "    tree['sl'] = tree_grow(X_l, y_l, level + 1, num_leaf_nodes, min_leaf_nodes=min_leaf_nodes,max_depth=max_depth, num_pct=num_pct)\n",
        "    tree['sr'] = tree_grow(X_r, y_r, level + 1, num_leaf_nodes, min_leaf_nodes=min_leaf_nodes,max_depth=max_depth, num_pct=num_pct)\n",
        "    print(tree)\n",
        "    return tree\n",
        "\n",
        "tree_grow(X, y, level=0, num_leaf_nodes=0, min_leaf_nodes=6, max_depth = 10, num_pct=10)\n"
      ]
    },
    {
      "cell_type": "markdown",
      "metadata": {
        "id": "FII7Z1VHRgpC"
      },
      "source": [
        "### Punto 5 - Árbol de decisión con librería\n",
        "En la celda 5 entrene un árbol de decisiones con la **librería sklearn**, usando las variables predictoras \"hour\" y \"workingday\" y calibre los parámetros que considere conveniente para obtener un mejor desempeño. Comente el desempeño del modelo con alguna métrica de desempeño de modelos de clasificación y compare desempeño con el modelo del punto 3."
      ]
    },
    {
      "cell_type": "code",
      "execution_count": null,
      "metadata": {
        "id": "HixSzb1gRgpC",
        "colab": {
          "base_uri": "https://localhost:8080/"
        },
        "outputId": "04e794e9-3323-43b0-a283-1b0594d18677"
      },
      "outputs": [
        {
          "output_type": "stream",
          "name": "stdout",
          "text": [
            "MIN MSE 114.64345547520414 fue obtenido con un arbol de Profundidad=10\n",
            "Score Mean:107.57576561312104\n",
            "Score Standart Deviation:39.63050007312498\n",
            "            Importancia\n",
            "workingday      0.18495\n",
            "hour            0.81505\n"
          ]
        },
        {
          "output_type": "execute_result",
          "data": {
            "text/plain": [
              "array([-8.11711322,  0.21153184,  0.90038569,  0.79975985,  0.59720205,\n",
              "        0.55294467,  0.70205174,  0.58223541,  0.55383399,  0.77005689])"
            ]
          },
          "metadata": {},
          "execution_count": 116
        }
      ],
      "source": [
        "from sklearn.tree import DecisionTreeRegressor\n",
        "import math\n",
        "rmse_scores=[]\n",
        "for depth in range(21):\n",
        "  reg= DecisionTreeRegressor(max_depth=depth+1,random_state=101)\n",
        "  mse=-cross_val_score(reg, X,y, cv=10, scoring='neg_mean_squared_error').mean()\n",
        "  rmse_scores.append(np.sqrt(mse))\n",
        "index_min= np.argmin(rmse_scores)\n",
        "min_rmse= np.min(rmse_scores)\n",
        "print(f'MIN MSE {min_rmse} fue obtenido con un arbol de Profundidad={index_min+1}')\n",
        "\n",
        "# Obteniendo la evaluacion del desempeno de este arbol final con 10 niveles de profundida\n",
        "reg= DecisionTreeRegressor(max_depth=index_min+1,random_state=101)\n",
        "reg.fit(X,y)\n",
        "mse=-cross_val_score(reg, X, y, cv=10,scoring='neg_mean_squared_error')\n",
        "rmse= np.sqrt(mse)\n",
        "\n",
        "print(f'Score Mean:{rmse.mean()}')\n",
        "print(f'Score Standart Deviation:{rmse.std()}')\n",
        "df =pd.DataFrame(index=X.columns,data= reg.feature_importances_, columns=[\"Importancia\"]).sort_values(\"Importancia\")\n",
        "print(df)\n"
      ]
    },
    {
      "cell_type": "markdown",
      "source": [
        "#Comparacion \n",
        "***\n",
        "\n",
        "Usando la metrica del MSE (para ser mas especifico, la raiz cuadrada del MSE), se obtuvo un mejor desempeno en el arbol de decision de profundidad de 10 niveles y cuyo RMSE fue de 107.575, con respecto a la regression lineal, cuyo RMSE fue de 165.5.\n",
        "La desviacion standar de las dos medidas estan casi del mismo orden."
      ],
      "metadata": {
        "id": "XAdtZl4iQFUV"
      }
    },
    {
      "cell_type": "markdown",
      "metadata": {
        "id": "38QlJ6iGRgpC"
      },
      "source": [
        "## Parte B - Métodos de ensamblajes\n",
        "En esta parte del taller se usará el conjunto de datos de Popularidad de Noticias Online. El objetivo es predecir la cantidad de reacciones en redes sociales (popularidad) de la notica. Para más detalles puede visitar el sigueinte enlace: [datos](https://archive.ics.uci.edu/ml/datasets/online+news+popularity)."
      ]
    },
    {
      "cell_type": "markdown",
      "metadata": {
        "id": "IxqgNh8FRgpD"
      },
      "source": [
        "### Datos popularidad de noticias"
      ]
    },
    {
      "cell_type": "code",
      "execution_count": 3,
      "metadata": {
        "id": "PNGxwANvRgpD",
        "colab": {
          "base_uri": "https://localhost:8080/",
          "height": 386
        },
        "outputId": "1c89cc7a-9066-49c0-828f-66f71ac57a86"
      },
      "outputs": [
        {
          "output_type": "execute_result",
          "data": {
            "text/plain": [
              "                                                 url  timedelta  \\\n",
              "0  http://mashable.com/2014/12/10/cia-torture-rep...       28.0   \n",
              "1  http://mashable.com/2013/10/18/bitlock-kicksta...      447.0   \n",
              "2  http://mashable.com/2013/07/24/google-glass-po...      533.0   \n",
              "3  http://mashable.com/2013/11/21/these-are-the-m...      413.0   \n",
              "4  http://mashable.com/2014/02/11/parking-ticket-...      331.0   \n",
              "\n",
              "   n_tokens_title  n_tokens_content  n_unique_tokens  n_non_stop_words  \\\n",
              "0             9.0             188.0         0.732620               1.0   \n",
              "1             7.0             297.0         0.653199               1.0   \n",
              "2            11.0             181.0         0.660377               1.0   \n",
              "3            12.0             781.0         0.497409               1.0   \n",
              "4             8.0             177.0         0.685714               1.0   \n",
              "\n",
              "   n_non_stop_unique_tokens  num_hrefs  num_self_hrefs  num_imgs  ...  \\\n",
              "0                  0.844262        5.0             1.0       1.0  ...   \n",
              "1                  0.815789        9.0             4.0       1.0  ...   \n",
              "2                  0.775701        4.0             3.0       1.0  ...   \n",
              "3                  0.677350       10.0             3.0       1.0  ...   \n",
              "4                  0.830357        3.0             2.0       1.0  ...   \n",
              "\n",
              "   min_positive_polarity  max_positive_polarity  avg_negative_polarity  \\\n",
              "0               0.200000                   0.80              -0.487500   \n",
              "1               0.160000                   0.50              -0.135340   \n",
              "2               0.136364                   1.00               0.000000   \n",
              "3               0.100000                   1.00              -0.195701   \n",
              "4               0.100000                   0.55              -0.175000   \n",
              "\n",
              "   min_negative_polarity  max_negative_polarity  title_subjectivity  \\\n",
              "0                  -0.60              -0.250000                 0.9   \n",
              "1                  -0.40              -0.050000                 0.1   \n",
              "2                   0.00               0.000000                 0.3   \n",
              "3                  -0.40              -0.071429                 0.0   \n",
              "4                  -0.25              -0.100000                 0.0   \n",
              "\n",
              "   title_sentiment_polarity  abs_title_subjectivity  \\\n",
              "0                       0.8                     0.4   \n",
              "1                      -0.1                     0.4   \n",
              "2                       1.0                     0.2   \n",
              "3                       0.0                     0.5   \n",
              "4                       0.0                     0.5   \n",
              "\n",
              "   abs_title_sentiment_polarity  Popular  \n",
              "0                           0.8        1  \n",
              "1                           0.1        0  \n",
              "2                           1.0        0  \n",
              "3                           0.0        0  \n",
              "4                           0.0        0  \n",
              "\n",
              "[5 rows x 61 columns]"
            ],
            "text/html": [
              "\n",
              "  <div id=\"df-72430d74-dcd2-4591-9b9e-923617739048\">\n",
              "    <div class=\"colab-df-container\">\n",
              "      <div>\n",
              "<style scoped>\n",
              "    .dataframe tbody tr th:only-of-type {\n",
              "        vertical-align: middle;\n",
              "    }\n",
              "\n",
              "    .dataframe tbody tr th {\n",
              "        vertical-align: top;\n",
              "    }\n",
              "\n",
              "    .dataframe thead th {\n",
              "        text-align: right;\n",
              "    }\n",
              "</style>\n",
              "<table border=\"1\" class=\"dataframe\">\n",
              "  <thead>\n",
              "    <tr style=\"text-align: right;\">\n",
              "      <th></th>\n",
              "      <th>url</th>\n",
              "      <th>timedelta</th>\n",
              "      <th>n_tokens_title</th>\n",
              "      <th>n_tokens_content</th>\n",
              "      <th>n_unique_tokens</th>\n",
              "      <th>n_non_stop_words</th>\n",
              "      <th>n_non_stop_unique_tokens</th>\n",
              "      <th>num_hrefs</th>\n",
              "      <th>num_self_hrefs</th>\n",
              "      <th>num_imgs</th>\n",
              "      <th>...</th>\n",
              "      <th>min_positive_polarity</th>\n",
              "      <th>max_positive_polarity</th>\n",
              "      <th>avg_negative_polarity</th>\n",
              "      <th>min_negative_polarity</th>\n",
              "      <th>max_negative_polarity</th>\n",
              "      <th>title_subjectivity</th>\n",
              "      <th>title_sentiment_polarity</th>\n",
              "      <th>abs_title_subjectivity</th>\n",
              "      <th>abs_title_sentiment_polarity</th>\n",
              "      <th>Popular</th>\n",
              "    </tr>\n",
              "  </thead>\n",
              "  <tbody>\n",
              "    <tr>\n",
              "      <th>0</th>\n",
              "      <td>http://mashable.com/2014/12/10/cia-torture-rep...</td>\n",
              "      <td>28.0</td>\n",
              "      <td>9.0</td>\n",
              "      <td>188.0</td>\n",
              "      <td>0.732620</td>\n",
              "      <td>1.0</td>\n",
              "      <td>0.844262</td>\n",
              "      <td>5.0</td>\n",
              "      <td>1.0</td>\n",
              "      <td>1.0</td>\n",
              "      <td>...</td>\n",
              "      <td>0.200000</td>\n",
              "      <td>0.80</td>\n",
              "      <td>-0.487500</td>\n",
              "      <td>-0.60</td>\n",
              "      <td>-0.250000</td>\n",
              "      <td>0.9</td>\n",
              "      <td>0.8</td>\n",
              "      <td>0.4</td>\n",
              "      <td>0.8</td>\n",
              "      <td>1</td>\n",
              "    </tr>\n",
              "    <tr>\n",
              "      <th>1</th>\n",
              "      <td>http://mashable.com/2013/10/18/bitlock-kicksta...</td>\n",
              "      <td>447.0</td>\n",
              "      <td>7.0</td>\n",
              "      <td>297.0</td>\n",
              "      <td>0.653199</td>\n",
              "      <td>1.0</td>\n",
              "      <td>0.815789</td>\n",
              "      <td>9.0</td>\n",
              "      <td>4.0</td>\n",
              "      <td>1.0</td>\n",
              "      <td>...</td>\n",
              "      <td>0.160000</td>\n",
              "      <td>0.50</td>\n",
              "      <td>-0.135340</td>\n",
              "      <td>-0.40</td>\n",
              "      <td>-0.050000</td>\n",
              "      <td>0.1</td>\n",
              "      <td>-0.1</td>\n",
              "      <td>0.4</td>\n",
              "      <td>0.1</td>\n",
              "      <td>0</td>\n",
              "    </tr>\n",
              "    <tr>\n",
              "      <th>2</th>\n",
              "      <td>http://mashable.com/2013/07/24/google-glass-po...</td>\n",
              "      <td>533.0</td>\n",
              "      <td>11.0</td>\n",
              "      <td>181.0</td>\n",
              "      <td>0.660377</td>\n",
              "      <td>1.0</td>\n",
              "      <td>0.775701</td>\n",
              "      <td>4.0</td>\n",
              "      <td>3.0</td>\n",
              "      <td>1.0</td>\n",
              "      <td>...</td>\n",
              "      <td>0.136364</td>\n",
              "      <td>1.00</td>\n",
              "      <td>0.000000</td>\n",
              "      <td>0.00</td>\n",
              "      <td>0.000000</td>\n",
              "      <td>0.3</td>\n",
              "      <td>1.0</td>\n",
              "      <td>0.2</td>\n",
              "      <td>1.0</td>\n",
              "      <td>0</td>\n",
              "    </tr>\n",
              "    <tr>\n",
              "      <th>3</th>\n",
              "      <td>http://mashable.com/2013/11/21/these-are-the-m...</td>\n",
              "      <td>413.0</td>\n",
              "      <td>12.0</td>\n",
              "      <td>781.0</td>\n",
              "      <td>0.497409</td>\n",
              "      <td>1.0</td>\n",
              "      <td>0.677350</td>\n",
              "      <td>10.0</td>\n",
              "      <td>3.0</td>\n",
              "      <td>1.0</td>\n",
              "      <td>...</td>\n",
              "      <td>0.100000</td>\n",
              "      <td>1.00</td>\n",
              "      <td>-0.195701</td>\n",
              "      <td>-0.40</td>\n",
              "      <td>-0.071429</td>\n",
              "      <td>0.0</td>\n",
              "      <td>0.0</td>\n",
              "      <td>0.5</td>\n",
              "      <td>0.0</td>\n",
              "      <td>0</td>\n",
              "    </tr>\n",
              "    <tr>\n",
              "      <th>4</th>\n",
              "      <td>http://mashable.com/2014/02/11/parking-ticket-...</td>\n",
              "      <td>331.0</td>\n",
              "      <td>8.0</td>\n",
              "      <td>177.0</td>\n",
              "      <td>0.685714</td>\n",
              "      <td>1.0</td>\n",
              "      <td>0.830357</td>\n",
              "      <td>3.0</td>\n",
              "      <td>2.0</td>\n",
              "      <td>1.0</td>\n",
              "      <td>...</td>\n",
              "      <td>0.100000</td>\n",
              "      <td>0.55</td>\n",
              "      <td>-0.175000</td>\n",
              "      <td>-0.25</td>\n",
              "      <td>-0.100000</td>\n",
              "      <td>0.0</td>\n",
              "      <td>0.0</td>\n",
              "      <td>0.5</td>\n",
              "      <td>0.0</td>\n",
              "      <td>0</td>\n",
              "    </tr>\n",
              "  </tbody>\n",
              "</table>\n",
              "<p>5 rows × 61 columns</p>\n",
              "</div>\n",
              "      <button class=\"colab-df-convert\" onclick=\"convertToInteractive('df-72430d74-dcd2-4591-9b9e-923617739048')\"\n",
              "              title=\"Convert this dataframe to an interactive table.\"\n",
              "              style=\"display:none;\">\n",
              "        \n",
              "  <svg xmlns=\"http://www.w3.org/2000/svg\" height=\"24px\"viewBox=\"0 0 24 24\"\n",
              "       width=\"24px\">\n",
              "    <path d=\"M0 0h24v24H0V0z\" fill=\"none\"/>\n",
              "    <path d=\"M18.56 5.44l.94 2.06.94-2.06 2.06-.94-2.06-.94-.94-2.06-.94 2.06-2.06.94zm-11 1L8.5 8.5l.94-2.06 2.06-.94-2.06-.94L8.5 2.5l-.94 2.06-2.06.94zm10 10l.94 2.06.94-2.06 2.06-.94-2.06-.94-.94-2.06-.94 2.06-2.06.94z\"/><path d=\"M17.41 7.96l-1.37-1.37c-.4-.4-.92-.59-1.43-.59-.52 0-1.04.2-1.43.59L10.3 9.45l-7.72 7.72c-.78.78-.78 2.05 0 2.83L4 21.41c.39.39.9.59 1.41.59.51 0 1.02-.2 1.41-.59l7.78-7.78 2.81-2.81c.8-.78.8-2.07 0-2.86zM5.41 20L4 18.59l7.72-7.72 1.47 1.35L5.41 20z\"/>\n",
              "  </svg>\n",
              "      </button>\n",
              "      \n",
              "  <style>\n",
              "    .colab-df-container {\n",
              "      display:flex;\n",
              "      flex-wrap:wrap;\n",
              "      gap: 12px;\n",
              "    }\n",
              "\n",
              "    .colab-df-convert {\n",
              "      background-color: #E8F0FE;\n",
              "      border: none;\n",
              "      border-radius: 50%;\n",
              "      cursor: pointer;\n",
              "      display: none;\n",
              "      fill: #1967D2;\n",
              "      height: 32px;\n",
              "      padding: 0 0 0 0;\n",
              "      width: 32px;\n",
              "    }\n",
              "\n",
              "    .colab-df-convert:hover {\n",
              "      background-color: #E2EBFA;\n",
              "      box-shadow: 0px 1px 2px rgba(60, 64, 67, 0.3), 0px 1px 3px 1px rgba(60, 64, 67, 0.15);\n",
              "      fill: #174EA6;\n",
              "    }\n",
              "\n",
              "    [theme=dark] .colab-df-convert {\n",
              "      background-color: #3B4455;\n",
              "      fill: #D2E3FC;\n",
              "    }\n",
              "\n",
              "    [theme=dark] .colab-df-convert:hover {\n",
              "      background-color: #434B5C;\n",
              "      box-shadow: 0px 1px 3px 1px rgba(0, 0, 0, 0.15);\n",
              "      filter: drop-shadow(0px 1px 2px rgba(0, 0, 0, 0.3));\n",
              "      fill: #FFFFFF;\n",
              "    }\n",
              "  </style>\n",
              "\n",
              "      <script>\n",
              "        const buttonEl =\n",
              "          document.querySelector('#df-72430d74-dcd2-4591-9b9e-923617739048 button.colab-df-convert');\n",
              "        buttonEl.style.display =\n",
              "          google.colab.kernel.accessAllowed ? 'block' : 'none';\n",
              "\n",
              "        async function convertToInteractive(key) {\n",
              "          const element = document.querySelector('#df-72430d74-dcd2-4591-9b9e-923617739048');\n",
              "          const dataTable =\n",
              "            await google.colab.kernel.invokeFunction('convertToInteractive',\n",
              "                                                     [key], {});\n",
              "          if (!dataTable) return;\n",
              "\n",
              "          const docLinkHtml = 'Like what you see? Visit the ' +\n",
              "            '<a target=\"_blank\" href=https://colab.research.google.com/notebooks/data_table.ipynb>data table notebook</a>'\n",
              "            + ' to learn more about interactive tables.';\n",
              "          element.innerHTML = '';\n",
              "          dataTable['output_type'] = 'display_data';\n",
              "          await google.colab.output.renderOutput(dataTable, element);\n",
              "          const docLink = document.createElement('div');\n",
              "          docLink.innerHTML = docLinkHtml;\n",
              "          element.appendChild(docLink);\n",
              "        }\n",
              "      </script>\n",
              "    </div>\n",
              "  </div>\n",
              "  "
            ]
          },
          "metadata": {},
          "execution_count": 3
        }
      ],
      "source": [
        "# Lectura de la información de archivo .csv\n",
        "df = pd.read_csv('https://raw.githubusercontent.com/albahnsen/MIAD_ML_and_NLP/main/datasets/mashable.csv', index_col=0)\n",
        "df.head()"
      ]
    },
    {
      "cell_type": "code",
      "execution_count": 4,
      "metadata": {
        "id": "GmsjU6v_RgpD",
        "colab": {
          "base_uri": "https://localhost:8080/"
        },
        "outputId": "bf025c15-dfd4-4fa6-afd0-84c0214fb649"
      },
      "outputs": [
        {
          "output_type": "execute_result",
          "data": {
            "text/plain": [
              "url                             0\n",
              "timedelta                       0\n",
              "n_tokens_title                  0\n",
              "n_tokens_content                0\n",
              "n_unique_tokens                 0\n",
              "                               ..\n",
              "title_subjectivity              0\n",
              "title_sentiment_polarity        0\n",
              "abs_title_subjectivity          0\n",
              "abs_title_sentiment_polarity    0\n",
              "Popular                         0\n",
              "Length: 61, dtype: int64"
            ]
          },
          "metadata": {},
          "execution_count": 4
        }
      ],
      "source": [
        "# Definición variable de interes y variables predictoras\n",
        "X = df.drop(['url', 'Popular'], axis=1)\n",
        "y = df['Popular']\n",
        "df.Popular.value_counts()\n",
        "df.isnull().sum()"
      ]
    },
    {
      "cell_type": "code",
      "execution_count": 5,
      "metadata": {
        "id": "mZOulQpORgpD"
      },
      "outputs": [],
      "source": [
        "# División de la muestra en set de entrenamiento y prueba\n",
        "from sklearn.model_selection import train_test_split\n",
        "X_train, X_test, y_train, y_test = train_test_split(X, y, random_state=1)"
      ]
    },
    {
      "cell_type": "markdown",
      "metadata": {
        "id": "Dp7_JzxoRgpE"
      },
      "source": [
        "### Punto 6 - Árbol de decisión y regresión logística\n",
        "En la celda 6 construya un árbol de decisión y una regresión logística. Para el árbol calibre al menos un parámetro y evalúe el desempeño de cada modelo usando las métricas de Accuracy y F1-Score."
      ]
    },
    {
      "cell_type": "code",
      "execution_count": 7,
      "metadata": {
        "id": "XcSfcPDcRgpE",
        "colab": {
          "base_uri": "https://localhost:8080/"
        },
        "outputId": "ea2c1f59-d2ec-4927-9646-e453b997364a"
      },
      "outputs": [
        {
          "output_type": "stream",
          "name": "stdout",
          "text": [
            "F1-SCORE REG. LOGISTICA: 0.6106254203093476\n",
            "ACCURACY REG. LOGISTICA: 0.614\n",
            "Nivel de balanceo de clases\n",
            " 1    3000\n",
            "0    3000\n",
            "Name: Popular, dtype: int64\n",
            "MIN ERROR 0.3486666666666667 fue obtenido con un arbol de Profundidad=4\n",
            "F1-SCORE ARBOL: 0.6345213137665969\n",
            "ACCURACY ARBOL: 0.6513333333333333\n"
          ]
        }
      ],
      "source": [
        "from sklearn.linear_model import LogisticRegression \n",
        "from sklearn.tree import DecisionTreeClassifier\n",
        "from sklearn.metrics import f1_score, accuracy_score\n",
        "log_reg= LogisticRegression()\n",
        "log_reg.fit(X_train,y_train)\n",
        "yPred= log_reg.predict(X_test)\n",
        "print(f'F1-SCORE REG. LOGISTICA: {f1_score(y_test , yPred)}')\n",
        "print (f'ACCURACY REG. LOGISTICA: {accuracy_score(y_test , yPred)}')\n",
        "\n",
        "#Nivel de Balanceo de clases representada por la columna Popular\n",
        "print(f'Nivel de balanceo de clases\\n {df.Popular.value_counts()}') \n",
        "error_scores= []\n",
        "for depth in range(1,21):\n",
        "  tree= DecisionTreeClassifier(max_depth=depth,random_state=101)\n",
        "  tree.fit(X_train,y_train)\n",
        "  yPred= tree.predict(X_test)\n",
        "  error_scores.append(1-accuracy_score(y_test , yPred))\n",
        "\n",
        "\n",
        "index_min= np.argmin(error_scores)\n",
        "min_error= np.min(error_scores)\n",
        "print(f'MIN ERROR {min_error} fue obtenido con un arbol de Profundidad={index_min+1}')\n",
        "\n",
        "# Obteniendo la evaluacion del desempeno de este arbol final con 4 niveles de profundidad\n",
        "tree= DecisionTreeClassifier(max_depth=index_min+1,random_state=101)\n",
        "tree.fit(X_train,y_train)\n",
        "yPred= tree.predict(X_test)\n",
        "\n",
        "print(f'F1-SCORE ARBOL: {f1_score(y_test , yPred)}')\n",
        "print (f'ACCURACY ARBOL: {accuracy_score(y_test , yPred)}')\n",
        "\n"
      ]
    },
    {
      "cell_type": "markdown",
      "metadata": {
        "id": "wY8k6cNARgpE"
      },
      "source": [
        "### Punto 7 - Votación Mayoritaria\n",
        "En la celda 7 elabore un esamble con la metodología de **Votación mayoritaria** compuesto por 300 muestras bagged para cada uno de los siguientes escenarios:\n",
        "\n",
        "-100 árboles de decisión donde max_depth = None\\\n",
        "-100 árboles de decisión donde max_depth = 2\\\n",
        "-100 regresiones logísticas\n",
        "\n",
        "Evalúe los modelos utilizando las métricas de Accuracy y F1-Score."
      ]
    },
    {
      "cell_type": "code",
      "source": [
        "range(100)"
      ],
      "metadata": {
        "colab": {
          "base_uri": "https://localhost:8080/"
        },
        "id": "OJP5Vb-cWEXL",
        "outputId": "97fc189c-a949-4d83-bfcd-758ba7833810"
      },
      "execution_count": null,
      "outputs": [
        {
          "output_type": "execute_result",
          "data": {
            "text/plain": [
              "range(0, 100)"
            ]
          },
          "metadata": {},
          "execution_count": 49
        }
      ]
    },
    {
      "cell_type": "code",
      "execution_count": 16,
      "metadata": {
        "id": "ndmQGa0nRgpE",
        "colab": {
          "base_uri": "https://localhost:8080/"
        },
        "outputId": "bee168e7-2a72-4f05-992f-8f02530322fb"
      },
      "outputs": [
        {
          "output_type": "stream",
          "name": "stdout",
          "text": [
            "F1-SCORE BAGGING CON ARBOLES EXPERIMENTO 1.1(BAGGING MANUAL votación mayoritaria): 0.6735617323852617\n",
            "ACCURACY BAGGING CON ARBOLES EXPERIMENTO 1.1(BAGGING MANUAL votación mayoritaria): 0.6633333333333333\n",
            "\n",
            "\n",
            "F1-SCORE BAGGING CON ARBOLES EXPERIMENTO 1.2(BAGGING SKLEARN votación mayoritaria): 0.649932157394844\n",
            "ACCURACY BAGGING CON ARBOLES EXPERIMENTO 1.2(BAGGING SKLEARN votación mayoritaria): 0.656\n",
            "\n",
            "\n",
            "F1-SCORE BAGGING CON ARBOLES EXPERIMENTO 2.1(BAGGING MANUAL votación mayoritaria): 0.6577896138482024\n",
            "ACCURACY BAGGING CON ARBOLES EXPERIMENTO 2.1 (BAGGING MANUAL votación mayoritaria): 0.6573333333333333\n",
            "\n",
            "\n",
            "F1-SCORE ARBOL EXPERIMENTO 2.2(BAGGING SKLEARN votación mayoritaria): 0.640218878248974\n",
            "ACCURACY ARBOL EXPERIMENTO 2.2(BAGGING SKLEARN votación mayoritaria): 0.6493333333333333\n",
            "\n",
            "\n",
            "F1-SCORE BAGGING CON REGRESSION LOGISTICA EXPERIMENTO 3.1(BAGGING MANUAL votación mayoritaria): 0.6152805949966192\n",
            "ACCURACY BAGGING CON REGRESSION LOGISTICA EXPERIMENTO 3.1(BAGGING MANUAL votación mayoritaria): 0.6206666666666667\n",
            "\n",
            "\n",
            "F1-SCORE BAGGING CON REGRESSION LOGISTICA EXPERIMENTO 3.2( BAGGING SKLEARN votación mayoritaria): 0.6125760649087221\n",
            "ACCURACY BAGGING  CON REGRESSION LOGISTICA EXPERIMENTO 3.2 (BAGGING SKLEARN votación mayoritaria): 0.618\n"
          ]
        }
      ],
      "source": [
        "from sklearn.tree import DecisionTreeClassifier\n",
        "\n",
        "\n",
        "\n",
        "#Creacion de muestras boostrap paa todos los experimentos\n",
        "n_estimators = 100\n",
        "n_samples=300\n",
        "np.random.seed(123)\n",
        "samples = [np.random.choice(a=X_train.shape[0], size=X_train.shape[0], replace=True) for _ in range(n_samples)]\n",
        "\n",
        "#EXPERIMENTO 1.1 - BAGGING MANUAL\n",
        "\n",
        "# Entrenamiento de 100 arboles con las 300 muestras boostrap\n",
        "np.random.seed(123) \n",
        "seeds = np.random.randint(1, 10000, size=n_estimators)\n",
        "trees = {}\n",
        "for index in range(n_estimators):\n",
        "    trees[index] = DecisionTreeClassifier(max_features=\"sqrt\", max_depth=None, random_state=seeds[index])\n",
        "    XTrain= pd.concat([ X_train.iloc[samples[index*3]], X_train.iloc[samples[(index*3 + 1)]] , X_train.iloc[samples[(index*3 + 2)]]])\n",
        "    yTrain= pd.concat([ y_train.iloc[samples[index*3]], y_train.iloc[samples[(index*3 + 1)]] , y_train.iloc[samples[(index*3 + 2)]]])\n",
        "    trees[index].fit(XTrain, yTrain)\n",
        "  \n",
        "# Predicción para los datos del set de test con cada modelo\n",
        "yPred_df = pd.DataFrame(index=X_test.index, columns=list(range(n_estimators)))\n",
        "for i in range(n_estimators):\n",
        "    yPred_df.iloc[:, i] = trees[i].predict(X_test)\n",
        "\n",
        "# Votación mayoritaria\n",
        "yPred = (yPred_df.sum(axis=1) >= (n_estimators / 2)).astype(np.int)\n",
        "\n",
        "# Desempeño al hacer votación mayoritaria\n",
        "print(f'F1-SCORE BAGGING CON ARBOLES EXPERIMENTO 1.1(BAGGING MANUAL votación mayoritaria): {f1_score(y_test , yPred)}')\n",
        "print (f'ACCURACY BAGGING CON ARBOLES EXPERIMENTO 1.1(BAGGING MANUAL votación mayoritaria): {accuracy_score(y_test , yPred)}')\n",
        "print (f'\\n')\n",
        "\n",
        "#EXPERIMENTO 1.2 - BAGGING CON SKLEARN\n",
        "\n",
        "from sklearn.ensemble import BaggingClassifier\n",
        "clf = BaggingClassifier(base_estimator=DecisionTreeClassifier(max_features=\"sqrt\", max_depth=None, random_state=42),\n",
        "                        n_estimators=100, max_samples=300, bootstrap=True,\n",
        "                        random_state=42, n_jobs=-1, oob_score=True)\n",
        "\n",
        "clf.fit(X_train, y_train)\n",
        "yPred = clf.predict(X_test)\n",
        "# Desempeño al hacer votación mayoritaria\n",
        "print(f'F1-SCORE BAGGING CON ARBOLES EXPERIMENTO 1.2(BAGGING SKLEARN votación mayoritaria): {f1_score(y_test , yPred)}')\n",
        "print (f'ACCURACY BAGGING CON ARBOLES EXPERIMENTO 1.2(BAGGING SKLEARN votación mayoritaria): {accuracy_score(y_test , yPred)}')\n",
        "print (f'\\n')\n",
        "\n",
        "\n",
        "\n",
        "\n",
        "#EXPERIMENTO 2.1 -BAGGING MANUAL-\n",
        "\n",
        "# Entrenamiento de 100 arboles con las 300 muestras boostrap\n",
        "np.random.seed(123) \n",
        "seeds = np.random.randint(1, 10000, size=n_estimators)\n",
        "trees = {}\n",
        "for index in range(n_estimators):\n",
        "    trees[index] = DecisionTreeClassifier(max_features=\"sqrt\", max_depth=2, random_state=seeds[index])\n",
        "    XTrain= pd.concat([ X_train.iloc[samples[index*3]], X_train.iloc[samples[(index*3 + 1)]] , X_train.iloc[samples[(index*3 + 2)]]])\n",
        "    yTrain= pd.concat([ y_train.iloc[samples[index*3]], y_train.iloc[samples[(index*3 + 1)]] , y_train.iloc[samples[(index*3 + 2)]]])\n",
        "    trees[index].fit(XTrain, yTrain)\n",
        "  \n",
        "# Predicción para los datos del set de test con cada modelo\n",
        "yPred_df = pd.DataFrame(index=X_test.index, columns=list(range(n_estimators)))\n",
        "for i in range(n_estimators):\n",
        "    yPred_df.iloc[:, i] = trees[i].predict(X_test)\n",
        "\n",
        "# Votación mayoritaria\n",
        "yPred = (yPred_df.sum(axis=1) >= (n_estimators / 2)).astype(np.int)\n",
        "\n",
        "# Desempeño al hacer votación mayoritaria\n",
        "print(f'F1-SCORE BAGGING CON ARBOLES EXPERIMENTO 2.1(BAGGING MANUAL votación mayoritaria): {f1_score(y_test , yPred)}')\n",
        "print (f'ACCURACY BAGGING CON ARBOLES EXPERIMENTO 2.1 (BAGGING MANUAL votación mayoritaria): {accuracy_score(y_test , yPred)}')\n",
        "print (f'\\n')\n",
        "\n",
        "\n",
        "#EXPERIMENTO 2.2 - BAGGING CON SKLEARN\n",
        "\n",
        "from sklearn.ensemble import BaggingClassifier\n",
        "clf = BaggingClassifier(base_estimator=DecisionTreeClassifier(max_features=\"sqrt\", max_depth=2, random_state=42), \n",
        "                        n_estimators=100, max_samples=300, bootstrap=True,\n",
        "                        random_state=42, n_jobs=-1, oob_score=True)\n",
        "\n",
        "clf.fit(X_train, y_train)\n",
        "yPred = clf.predict(X_test)\n",
        "# Desempeño al hacer votación mayoritaria\n",
        "print(f'F1-SCORE ARBOL EXPERIMENTO 2.2(BAGGING SKLEARN votación mayoritaria): {f1_score(y_test , yPred)}')\n",
        "print (f'ACCURACY ARBOL EXPERIMENTO 2.2(BAGGING SKLEARN votación mayoritaria): {accuracy_score(y_test , yPred)}')\n",
        "print (f'\\n')\n",
        "\n",
        "#EXPERIMENTO 3.1 - BAGGING MANUAL CON REG. LOGISTICA\n",
        "\n",
        "# Entrenamiento de 100 regressiones logisticas con las 300 muestras boostrap\n",
        "np.random.seed(123) \n",
        "seeds = np.random.randint(1, 10000, size=n_estimators)\n",
        "logs = {}\n",
        "for index in range(n_estimators):\n",
        "    logs[index] = LogisticRegression(random_state=seeds[index])\n",
        "    XTrain= pd.concat([ X_train.iloc[samples[index*3]], X_train.iloc[samples[(index*3 + 1)]] , X_train.iloc[samples[(index*3 + 2)]]])\n",
        "    yTrain= pd.concat([ y_train.iloc[samples[index*3]], y_train.iloc[samples[(index*3 + 1)]] , y_train.iloc[samples[(index*3 + 2)]]])\n",
        "    logs[index].fit(XTrain, yTrain)\n",
        "  \n",
        "# Predicción para los datos del set de test con cada modelo\n",
        "yPred_df = pd.DataFrame(index=X_test.index, columns=list(range(n_estimators)))\n",
        "for i in range(n_estimators):\n",
        "    yPred_df.iloc[:, i] = logs[i].predict(X_test)\n",
        "\n",
        "# Votación mayoritaria\n",
        "yPred = (yPred_df.sum(axis=1) >= (n_estimators / 2)).astype(np.int)\n",
        "# Desempeño al hacer votación mayoritaria\n",
        "print(f'F1-SCORE BAGGING CON REGRESSION LOGISTICA EXPERIMENTO 3.1(BAGGING MANUAL votación mayoritaria): {f1_score(y_test , yPred)}')\n",
        "print (f'ACCURACY BAGGING CON REGRESSION LOGISTICA EXPERIMENTO 3.1(BAGGING MANUAL votación mayoritaria): {accuracy_score(y_test , yPred)}')\n",
        "print (f'\\n')\n",
        "\n",
        "\n",
        "# EXPERIMENTO 3.2 BAGGING CON REG. LOGISTICA SKLEARN\n",
        "clf = BaggingClassifier(base_estimator= LogisticRegression(random_state=42), \n",
        "                        n_estimators=100, max_samples=300, bootstrap=True,\n",
        "                        random_state=42, n_jobs=-1, oob_score=True)\n",
        "\n",
        "clf.fit(X_train, y_train)\n",
        "yPred = clf.predict(X_test)\n",
        "# Desempeño al hacer votación mayoritaria\n",
        "print(f'F1-SCORE BAGGING CON REGRESSION LOGISTICA EXPERIMENTO 3.2( BAGGING SKLEARN votación mayoritaria): {f1_score(y_test , yPred)}')\n",
        "print (f'ACCURACY BAGGING  CON REGRESSION LOGISTICA EXPERIMENTO 3.2 (BAGGING SKLEARN votación mayoritaria): {accuracy_score(y_test , yPred)}')"
      ]
    },
    {
      "cell_type": "markdown",
      "metadata": {
        "id": "PK78IQ8gRgpF"
      },
      "source": [
        "### Punto 8 - Votación Ponderada\n",
        "En la celda 8 elabore un ensamble con la metodología de **Votación ponderada** compuesto por 300 muestras bagged para los mismos tres escenarios del punto 7. Evalúe los modelos utilizando las métricas de Accuracy y F1-Score"
      ]
    },
    {
      "cell_type": "code",
      "execution_count": 18,
      "metadata": {
        "id": "wIhqaAMjRgpF",
        "colab": {
          "base_uri": "https://localhost:8080/"
        },
        "outputId": "864e90e6-0a63-45a0-cccb-70321e197c4b"
      },
      "outputs": [
        {
          "output_type": "stream",
          "name": "stdout",
          "text": [
            "F1-SCORE BAGGING CON ARBOLES EXPERIMENTO 1.1 (BAGGING MANUAL -votación ponderada): 0.6701502286087525\n",
            "ACCURACY BAGGING CON ARBOLES EXPERIMENTO 1.1 (BAGGING MANUAL -votación ponderada): 0.6633333333333333\n",
            "\n",
            "\n",
            "F1-SCORE BAGGING CON ARBOLES EXPERIMENTO 1.2(BAGGING SKLEARN votación ponderada): 0.6577540106951871\n",
            "ACCURACY BAGGING CON ARBOLES EXPERIMENTO 1.2(BAGGING SKLEARN votación ponderada): 0.6586666666666666\n",
            "\n",
            "\n",
            "F1-SCORE BAGGING CON ARBOLES EXPERIMENTO 2.1(BAGING MANUAL votación ponderada): 0.657771847898599\n",
            "ACCURACY BAGGING CON ARBOLES EXPERIMENTO 2.1(BAGGIN MANUAL votación ponderada): 0.658\n",
            "\n",
            "\n",
            "F1-SCORE BAGGING CON ARBOLES EXPERIMENTO 2.2(BAGGING SKLEARN votación ponderada): 0.61794500723589\n",
            "ACCURACY BAGGING CON ARBOLES EXPERIMENTO 2.2(BAGGING SKLEARN votación ponderada): 0.648\n",
            "\n",
            "\n",
            "F1-SCORE BAGGING CON REG LOGISTICA EXPERIMENTO 3.1(BAGGING MANUAL votación ponderada): 0.6135135135135135\n",
            "ACCURACY BAGGING CON REG LOGISTICA EXPERIMENTO 3.1(BAGGING MANUAL votación ponderada): 0.6186666666666667\n",
            "\n",
            "\n",
            "F1-SCORE BAGGING CON REGRESSION LOGISTICA EXPERIMENTO 3.2( BAGGING SKLEARN votación ponderada): 0.6181818181818182\n",
            "ACCURACY BAGGING  CON REGRESSION LOGISTICA EXPERIMENTO 3.2 (BAGGING SKLEARN votación ponderada): 0.622\n"
          ]
        }
      ],
      "source": [
        "from sklearn.tree import DecisionTreeClassifier\n",
        "\n",
        "def VotacionPonderada(ensamblaje,samples_bootstrap, n_samples,n_estimadores, XTrain,yTrain,yPred):\n",
        "  samples_oob = []\n",
        "  # Obtención de las observaciones fuera de la bolsa \"out-of-bag\" para cada muestra\n",
        "  for i in range(n_estimators):\n",
        "    samples_oob.append(sorted(set(range(n_samples)) - \n",
        "                              set(samples_bootstrap[i*3]) -\n",
        "                              set(samples_bootstrap[i*3+1])- \n",
        "                              set(samples_bootstrap[i*3+2])))\n",
        "  #for i,sample in enumerate(samples_bootstrap):\n",
        "  #  samples_oob.append(sorted(set(range(n_samples)) - set(sample[i])-))\n",
        "  # Estimación de los errores OOB para cada clasificador\n",
        "  errors = np.zeros(n_estimators)\n",
        "  for i in range(n_estimators):\n",
        "\n",
        "    if len(samples_oob[i])>0:\n",
        "      y_pred_ = ensamblaje[i].predict(XTrain.iloc[samples_oob[i]])\n",
        "      errors[i] = 1 - accuracy_score(yTrain.iloc[samples_oob[i]], y_pred_)\n",
        "    else:\n",
        "      y_pred_ = ensamblaje[i].predict(XTrain)\n",
        "      errors[i] = 1 - accuracy_score(yTrain, y_pred_)\n",
        "   \n",
        "  # Obtención de los pesos alpha de cada modelo de acuerdo al error OOB\n",
        "  alpha = (1 - errors) / (1 - errors).sum()\n",
        "  weighted_sum_1 = ((yPred) * alpha).sum(axis=1)\n",
        "  y_pred = (weighted_sum_1 >= 0.5).astype(np.int)\n",
        "  return y_pred\n",
        "\n",
        "\n",
        "#Creacion de muestras boostrap paa todos los experimentos\n",
        "n_estimators = 100\n",
        "n_samples=300\n",
        "np.random.seed(123)\n",
        "samples = [np.random.choice(a=X_train.shape[0], size=X_train.shape[0], replace=True) for _ in range(n_samples)]\n",
        "\n",
        "#EXPERIMENTO 1.1 - BAGGING MANUAL . Cada estimador le corresponde 3 muestras boostrap.\n",
        "\n",
        "\n",
        "# Entrenamiento de 100 arboles con las 300 muestras boostrap\n",
        "np.random.seed(123) \n",
        "seeds = np.random.randint(1, 10000, size=n_estimators)\n",
        "trees = {}\n",
        "for index in range(n_estimators):\n",
        "    trees[index] = DecisionTreeClassifier(max_features=\"sqrt\", max_depth=None, random_state=seeds[index])\n",
        "    XTrain= pd.concat([ X_train.iloc[samples[index*3]], X_train.iloc[samples[(index*3 + 1)]] , X_train.iloc[samples[(index*3 + 2)]]])\n",
        "    yTrain= pd.concat([ y_train.iloc[samples[index*3]], y_train.iloc[samples[(index*3 + 1)]] , y_train.iloc[samples[(index*3 + 2)]]])\n",
        "    trees[index].fit(XTrain, yTrain)\n",
        "  \n",
        "# Predicción para los datos del set de test con cada modelo\n",
        "yPred_df = pd.DataFrame(index=X_test.index, columns=list(range(n_estimators)))\n",
        "for i in range(n_estimators):\n",
        "    yPred_df.iloc[:, i] = trees[i].predict(X_test)\n",
        "\n",
        "# Votación ponderada\n",
        "yPred = VotacionPonderada(trees, samples, n_estimators, n_samples,XTrain , yTrain, yPred_df )\n",
        "\n",
        "# Desempeño al hacer votación ponderada\n",
        "print(f'F1-SCORE BAGGING CON ARBOLES EXPERIMENTO 1.1 (BAGGING MANUAL -votación ponderada): {f1_score(y_test , yPred)}')\n",
        "print (f'ACCURACY BAGGING CON ARBOLES EXPERIMENTO 1.1 (BAGGING MANUAL -votación ponderada): {accuracy_score(y_test , yPred)}')\n",
        "print (f'\\n')\n",
        "\n",
        "#EXPERIMENTO 1.2 - BAGGING CON SKLEARN \n",
        "\n",
        "from sklearn.ensemble import BaggingClassifier\n",
        "clf = BaggingClassifier(base_estimator=DecisionTreeClassifier(max_features=\"sqrt\", max_depth=None, random_state=42),\n",
        "                        n_estimators=100, max_samples=300, bootstrap=True,\n",
        "                        random_state=42, n_jobs=-1, oob_score=True)\n",
        "\n",
        "clf.fit(X_train, y_train)\n",
        "# Obtención de los pesos alpha de cada modelo de acuerdo al error OOB\n",
        "errors = np.zeros(clf.n_estimators)\n",
        "y_pred_all_ = np.zeros((X_test.shape[0], clf.n_estimators))\n",
        "\n",
        "for i in range(clf.n_estimators):\n",
        "    oob_sample = ~clf.estimators_samples_[i]\n",
        "    y_pred_ = clf.estimators_[i].predict(X_train.values[oob_sample])\n",
        "    errors[i] = accuracy_score(y_pred_, y_train.values[oob_sample])\n",
        "    y_pred_all_[:, i] = clf.estimators_[i].predict(X_test)\n",
        "    \n",
        "alpha = (1 - errors) / (1 - errors).sum()\n",
        "yPred = (np.sum(y_pred_all_ * alpha, axis=1) >= 0.5).astype(np.int)\n",
        "\n",
        "# Desempeño al hacer votación ponderada\n",
        "print(f'F1-SCORE BAGGING CON ARBOLES EXPERIMENTO 1.2(BAGGING SKLEARN votación ponderada): {f1_score(y_test , yPred)}')\n",
        "print (f'ACCURACY BAGGING CON ARBOLES EXPERIMENTO 1.2(BAGGING SKLEARN votación ponderada): {accuracy_score(y_test , yPred)}')\n",
        "print (f'\\n')\n",
        "\n",
        "\n",
        "#EXPERIMENTO 2.1 - BAGGING MANUAL - Cada estimador le corresponde 3 muestras boostrap.\n",
        "\n",
        "# Entrenamiento de 100 arboles con las 300 muestras boostrap\n",
        "np.random.seed(123) \n",
        "seeds = np.random.randint(1, 10000, size=n_estimators)\n",
        "trees = {}\n",
        "for index in range(n_estimators):\n",
        "    trees[index] = DecisionTreeClassifier(max_features=\"sqrt\", max_depth=2, random_state=seeds[index])\n",
        "    XTrain= pd.concat([ X_train.iloc[samples[index*3]], X_train.iloc[samples[(index*3 + 1)]] , X_train.iloc[samples[(index*3 + 2)]]])\n",
        "    yTrain= pd.concat([ y_train.iloc[samples[index*3]], y_train.iloc[samples[(index*3 + 1)]] , y_train.iloc[samples[(index*3 + 2)]]])\n",
        "    trees[index].fit(XTrain, yTrain)\n",
        "  \n",
        "# Predicción para los datos del set de test con cada modelo\n",
        "yPred_df = pd.DataFrame(index=X_test.index, columns=list(range(n_estimators)))\n",
        "for i in range(n_estimators):\n",
        "    yPred_df.iloc[:, i] = trees[i].predict(X_test)\n",
        "\n",
        "# Votación ponderada\n",
        "yPred = VotacionPonderada(trees, samples, n_estimators, n_samples,XTrain , yTrain, yPred_df )\n",
        "\n",
        "# Desempeño al hacer votación ponderada\n",
        "print(f'F1-SCORE BAGGING CON ARBOLES EXPERIMENTO 2.1(BAGING MANUAL votación ponderada): {f1_score(y_test , yPred)}')\n",
        "print (f'ACCURACY BAGGING CON ARBOLES EXPERIMENTO 2.1(BAGGIN MANUAL votación ponderada): {accuracy_score(y_test , yPred)}')\n",
        "print (f'\\n')\n",
        "\n",
        "\n",
        "#EXPERIMENTO 2.2 - BAGGING CON SKLEARN\n",
        "\n",
        "from sklearn.ensemble import BaggingClassifier\n",
        "clf = BaggingClassifier(base_estimator=DecisionTreeClassifier(max_features=\"sqrt\", max_depth=2, random_state=42), \n",
        "                        n_estimators=100, max_samples=300, bootstrap=True,\n",
        "                        random_state=42, n_jobs=-1, oob_score=True)\n",
        "\n",
        "clf.fit(X_train, y_train)\n",
        "\n",
        "# Obtención de los pesos alpha de cada modelo de acuerdo al error OOB\n",
        "errors = np.zeros(clf.n_estimators)\n",
        "y_pred_all_ = np.zeros((X_test.shape[0], clf.n_estimators))\n",
        "\n",
        "for i in range(clf.n_estimators):\n",
        "    oob_sample = ~clf.estimators_samples_[i]\n",
        "    y_pred_ = clf.estimators_[i].predict(X_train.values[oob_sample])\n",
        "    errors[i] = accuracy_score(y_pred_, y_train.values[oob_sample])\n",
        "    y_pred_all_[:, i] = clf.estimators_[i].predict(X_test)\n",
        "    \n",
        "alpha = (1 - errors) / (1 - errors).sum()\n",
        "yPred = (np.sum(y_pred_all_ * alpha, axis=1) >= 0.5).astype(np.int)\n",
        "\n",
        "# Desempeño al hacer votación ponderada\n",
        "print(f'F1-SCORE BAGGING CON ARBOLES EXPERIMENTO 2.2(BAGGING SKLEARN votación ponderada): {f1_score(y_test , yPred)}')\n",
        "print (f'ACCURACY BAGGING CON ARBOLES EXPERIMENTO 2.2(BAGGING SKLEARN votación ponderada): {accuracy_score(y_test , yPred)}')\n",
        "print (f'\\n')\n",
        "\n",
        "\n",
        "#EXPERIMENTO 3.1 BAGGING MANUAL CON REG.LOGISTICAS\n",
        "\n",
        "# Entrenamiento de 100 regressiones con las 300 muestras boostrap\n",
        "np.random.seed(123) \n",
        "seeds = np.random.randint(1, 10000, size=n_estimators)\n",
        "logs = {}\n",
        "for index in range(n_estimators):\n",
        "    logs[index] = LogisticRegression(random_state=seeds[index])\n",
        "    XTrain= pd.concat([ X_train.iloc[samples[index*3]], X_train.iloc[samples[(index*3 + 1)]] , X_train.iloc[samples[(index*3 + 2)]]])\n",
        "    yTrain= pd.concat([ y_train.iloc[samples[index*3]], y_train.iloc[samples[(index*3 + 1)]] , y_train.iloc[samples[(index*3 + 2)]]])\n",
        "    logs[index].fit(XTrain, yTrain)\n",
        "  \n",
        "# Predicción para los datos del set de test con cada modelo\n",
        "yPred_df = pd.DataFrame(index=X_test.index, columns=list(range(n_estimators)))\n",
        "for i in range(n_estimators):\n",
        "    yPred_df.iloc[:, i] = logs[i].predict(X_test)\n",
        "\n",
        "# Votación ponderada\n",
        "yPred = VotacionPonderada(trees, samples, n_estimators, n_samples,XTrain , yTrain, yPred_df )\n",
        "# Desempeño al hacer votación ponderada\n",
        "print(f'F1-SCORE BAGGING CON REG LOGISTICA EXPERIMENTO 3.1(BAGGING MANUAL votación ponderada): {f1_score(y_test , yPred)}')\n",
        "print (f'ACCURACY BAGGING CON REG LOGISTICA EXPERIMENTO 3.1(BAGGING MANUAL votación ponderada): {accuracy_score(y_test , yPred)}')\n",
        "print (f'\\n')\n",
        "\n",
        "\n",
        "# EXPERIMENTO 3.2 BAGGING CON REG. LOGISTICA SKLEARN\n",
        "clf = BaggingClassifier(base_estimator= LogisticRegression(random_state=42), \n",
        "                        n_estimators=100, max_samples=300, bootstrap=True,\n",
        "                        random_state=42, n_jobs=-1, oob_score=True)\n",
        "\n",
        "clf.fit(X_train, y_train)\n",
        "# Obtención de los pesos alpha de cada modelo de acuerdo al error OOB\n",
        "errors = np.zeros(clf.n_estimators)\n",
        "y_pred_all_ = np.zeros((X_test.shape[0], clf.n_estimators))\n",
        "\n",
        "for i in range(clf.n_estimators):\n",
        "    oob_sample = ~clf.estimators_samples_[i]\n",
        "    y_pred_ = clf.estimators_[i].predict(X_train.values[oob_sample])\n",
        "    errors[i] = accuracy_score(y_pred_, y_train.values[oob_sample])\n",
        "    y_pred_all_[:, i] = clf.estimators_[i].predict(X_test)\n",
        "    \n",
        "alpha = (1 - errors) / (1 - errors).sum()\n",
        "yPred = (np.sum(y_pred_all_ * alpha, axis=1) >= 0.5).astype(np.int)\n",
        "\n",
        "# Desempeño al hacer votación ponderada\n",
        "print(f'F1-SCORE BAGGING CON REGRESSION LOGISTICA EXPERIMENTO 3.2( BAGGING SKLEARN votación ponderada): {f1_score(y_test , yPred)}')\n",
        "print (f'ACCURACY BAGGING  CON REGRESSION LOGISTICA EXPERIMENTO 3.2 (BAGGING SKLEARN votación ponderada): {accuracy_score(y_test , yPred)}')\n",
        "\n"
      ]
    },
    {
      "cell_type": "markdown",
      "metadata": {
        "id": "N0yt3qHbRgpF"
      },
      "source": [
        "### Punto 9 - Comparación y análisis de resultados\n",
        "En la celda 9 comente sobre los resultados obtenidos con las metodologías usadas en los puntos 7 y 8, compare los resultados y enuncie posibles ventajas o desventajas de cada una de ellas."
      ]
    },
    {
      "cell_type": "code",
      "execution_count": null,
      "metadata": {
        "id": "cTEgxNmrRgpF"
      },
      "outputs": [],
      "source": [
        ""
      ]
    },
    {
      "cell_type": "markdown",
      "source": [
        "# Analisis\n",
        "***\n",
        "El desempeno de los modelos es muy similar entre ambos escenarios lo que significa que el grado de dispersion de los errores es constante, en el sentido que la penalizacion en Votacion ponderada coincide con la votacion mayoritaria.\n",
        "\n",
        "El de menor desempeno en ambos escenarios  fue la regresion logistica pero no por mucho"
      ],
      "metadata": {
        "id": "CWKCmc1jFCl2"
      }
    }
  ],
  "metadata": {
    "kernelspec": {
      "display_name": "Python 3",
      "language": "python",
      "name": "python3"
    },
    "language_info": {
      "codemirror_mode": {
        "name": "ipython",
        "version": 3
      },
      "file_extension": ".py",
      "mimetype": "text/x-python",
      "name": "python",
      "nbconvert_exporter": "python",
      "pygments_lexer": "ipython3",
      "version": "3.7.3"
    },
    "colab": {
      "name": "S1TC1_arboles_ensamblajes.ipynb",
      "provenance": [],
      "collapsed_sections": []
    }
  },
  "nbformat": 4,
  "nbformat_minor": 0
}